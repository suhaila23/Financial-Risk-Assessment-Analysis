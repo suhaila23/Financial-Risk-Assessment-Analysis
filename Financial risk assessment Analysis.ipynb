{
 "cells": [
  {
   "cell_type": "markdown",
   "id": "0a1969dc-987a-4bf7-90e6-9dad241c2f76",
   "metadata": {},
   "source": [
    "## FINANCIAL RISK ASSESSMENT DATA ANALYSIS"
   ]
  },
  {
   "cell_type": "markdown",
   "id": "55ee1204-9683-493f-bc05-40b2392b0492",
   "metadata": {},
   "source": [
    "### Import the necessary libraries."
   ]
  },
  {
   "cell_type": "code",
   "execution_count": 1,
   "id": "756fbed0-460f-4e97-9380-6eb3e16d7e97",
   "metadata": {},
   "outputs": [],
   "source": [
    "import numpy as np\n",
    "import pandas as pd\n",
    "import matplotlib.pyplot as plt\n",
    "import seaborn as sns\n",
    "%matplotlib inline\n",
    "import warnings\n",
    "warnings.filterwarnings('ignore')\n",
    "\n"
   ]
  },
  {
   "cell_type": "markdown",
   "id": "232ee359-2a44-4dfd-b2ce-ec7b65950388",
   "metadata": {},
   "source": [
    "### load the data."
   ]
  },
  {
   "cell_type": "code",
   "execution_count": 2,
   "id": "3391bca1-2c0d-479b-bf5a-078bed5022a1",
   "metadata": {
    "scrolled": true
   },
   "outputs": [
    {
     "data": {
      "text/html": [
       "<div>\n",
       "<style scoped>\n",
       "    .dataframe tbody tr th:only-of-type {\n",
       "        vertical-align: middle;\n",
       "    }\n",
       "\n",
       "    .dataframe tbody tr th {\n",
       "        vertical-align: top;\n",
       "    }\n",
       "\n",
       "    .dataframe thead th {\n",
       "        text-align: right;\n",
       "    }\n",
       "</style>\n",
       "<table border=\"1\" class=\"dataframe\">\n",
       "  <thead>\n",
       "    <tr style=\"text-align: right;\">\n",
       "      <th></th>\n",
       "      <th>Age</th>\n",
       "      <th>Gender</th>\n",
       "      <th>Education Level</th>\n",
       "      <th>Marital Status</th>\n",
       "      <th>Income</th>\n",
       "      <th>Credit Score</th>\n",
       "      <th>Loan Amount</th>\n",
       "      <th>Loan Purpose</th>\n",
       "      <th>Employment Status</th>\n",
       "      <th>Years at Current Job</th>\n",
       "      <th>Payment History</th>\n",
       "      <th>Debt-to-Income Ratio</th>\n",
       "      <th>Assets Value</th>\n",
       "      <th>Number of Dependents</th>\n",
       "      <th>City</th>\n",
       "      <th>State</th>\n",
       "      <th>Country</th>\n",
       "      <th>Previous Defaults</th>\n",
       "      <th>Risk Rating</th>\n",
       "    </tr>\n",
       "  </thead>\n",
       "  <tbody>\n",
       "    <tr>\n",
       "      <th>0</th>\n",
       "      <td>49</td>\n",
       "      <td>Male</td>\n",
       "      <td>PhD</td>\n",
       "      <td>Divorced</td>\n",
       "      <td>72799.0</td>\n",
       "      <td>688.0</td>\n",
       "      <td>45713.0</td>\n",
       "      <td>Business</td>\n",
       "      <td>Unemployed</td>\n",
       "      <td>19</td>\n",
       "      <td>Poor</td>\n",
       "      <td>0.154313</td>\n",
       "      <td>120228.0</td>\n",
       "      <td>0.0</td>\n",
       "      <td>Port Elizabeth</td>\n",
       "      <td>AS</td>\n",
       "      <td>Cyprus</td>\n",
       "      <td>2.0</td>\n",
       "      <td>Low</td>\n",
       "    </tr>\n",
       "    <tr>\n",
       "      <th>1</th>\n",
       "      <td>57</td>\n",
       "      <td>Female</td>\n",
       "      <td>Bachelor's</td>\n",
       "      <td>Widowed</td>\n",
       "      <td>NaN</td>\n",
       "      <td>690.0</td>\n",
       "      <td>33835.0</td>\n",
       "      <td>Auto</td>\n",
       "      <td>Employed</td>\n",
       "      <td>6</td>\n",
       "      <td>Fair</td>\n",
       "      <td>0.148920</td>\n",
       "      <td>55849.0</td>\n",
       "      <td>0.0</td>\n",
       "      <td>North Catherine</td>\n",
       "      <td>OH</td>\n",
       "      <td>Turkmenistan</td>\n",
       "      <td>3.0</td>\n",
       "      <td>Medium</td>\n",
       "    </tr>\n",
       "    <tr>\n",
       "      <th>2</th>\n",
       "      <td>21</td>\n",
       "      <td>Non-binary</td>\n",
       "      <td>Master's</td>\n",
       "      <td>Single</td>\n",
       "      <td>55687.0</td>\n",
       "      <td>600.0</td>\n",
       "      <td>36623.0</td>\n",
       "      <td>Home</td>\n",
       "      <td>Employed</td>\n",
       "      <td>8</td>\n",
       "      <td>Fair</td>\n",
       "      <td>0.362398</td>\n",
       "      <td>180700.0</td>\n",
       "      <td>3.0</td>\n",
       "      <td>South Scott</td>\n",
       "      <td>OK</td>\n",
       "      <td>Luxembourg</td>\n",
       "      <td>3.0</td>\n",
       "      <td>Medium</td>\n",
       "    </tr>\n",
       "    <tr>\n",
       "      <th>3</th>\n",
       "      <td>59</td>\n",
       "      <td>Male</td>\n",
       "      <td>Bachelor's</td>\n",
       "      <td>Single</td>\n",
       "      <td>26508.0</td>\n",
       "      <td>622.0</td>\n",
       "      <td>26541.0</td>\n",
       "      <td>Personal</td>\n",
       "      <td>Unemployed</td>\n",
       "      <td>2</td>\n",
       "      <td>Excellent</td>\n",
       "      <td>0.454964</td>\n",
       "      <td>157319.0</td>\n",
       "      <td>3.0</td>\n",
       "      <td>Robinhaven</td>\n",
       "      <td>PR</td>\n",
       "      <td>Uganda</td>\n",
       "      <td>4.0</td>\n",
       "      <td>Medium</td>\n",
       "    </tr>\n",
       "    <tr>\n",
       "      <th>4</th>\n",
       "      <td>25</td>\n",
       "      <td>Non-binary</td>\n",
       "      <td>Bachelor's</td>\n",
       "      <td>Widowed</td>\n",
       "      <td>49427.0</td>\n",
       "      <td>766.0</td>\n",
       "      <td>36528.0</td>\n",
       "      <td>Personal</td>\n",
       "      <td>Unemployed</td>\n",
       "      <td>10</td>\n",
       "      <td>Fair</td>\n",
       "      <td>0.143242</td>\n",
       "      <td>287140.0</td>\n",
       "      <td>NaN</td>\n",
       "      <td>New Heather</td>\n",
       "      <td>IL</td>\n",
       "      <td>Namibia</td>\n",
       "      <td>3.0</td>\n",
       "      <td>Low</td>\n",
       "    </tr>\n",
       "    <tr>\n",
       "      <th>...</th>\n",
       "      <td>...</td>\n",
       "      <td>...</td>\n",
       "      <td>...</td>\n",
       "      <td>...</td>\n",
       "      <td>...</td>\n",
       "      <td>...</td>\n",
       "      <td>...</td>\n",
       "      <td>...</td>\n",
       "      <td>...</td>\n",
       "      <td>...</td>\n",
       "      <td>...</td>\n",
       "      <td>...</td>\n",
       "      <td>...</td>\n",
       "      <td>...</td>\n",
       "      <td>...</td>\n",
       "      <td>...</td>\n",
       "      <td>...</td>\n",
       "      <td>...</td>\n",
       "      <td>...</td>\n",
       "    </tr>\n",
       "    <tr>\n",
       "      <th>14995</th>\n",
       "      <td>23</td>\n",
       "      <td>Non-binary</td>\n",
       "      <td>Bachelor's</td>\n",
       "      <td>Widowed</td>\n",
       "      <td>48088.0</td>\n",
       "      <td>609.0</td>\n",
       "      <td>26187.0</td>\n",
       "      <td>Home</td>\n",
       "      <td>Self-employed</td>\n",
       "      <td>2</td>\n",
       "      <td>Fair</td>\n",
       "      <td>0.317633</td>\n",
       "      <td>NaN</td>\n",
       "      <td>4.0</td>\n",
       "      <td>Susanstad</td>\n",
       "      <td>TN</td>\n",
       "      <td>Djibouti</td>\n",
       "      <td>2.0</td>\n",
       "      <td>Low</td>\n",
       "    </tr>\n",
       "    <tr>\n",
       "      <th>14996</th>\n",
       "      <td>56</td>\n",
       "      <td>Male</td>\n",
       "      <td>PhD</td>\n",
       "      <td>Single</td>\n",
       "      <td>107193.0</td>\n",
       "      <td>700.0</td>\n",
       "      <td>35111.0</td>\n",
       "      <td>Auto</td>\n",
       "      <td>Self-employed</td>\n",
       "      <td>10</td>\n",
       "      <td>Fair</td>\n",
       "      <td>0.155126</td>\n",
       "      <td>79102.0</td>\n",
       "      <td>NaN</td>\n",
       "      <td>Port Heather</td>\n",
       "      <td>WA</td>\n",
       "      <td>Congo</td>\n",
       "      <td>0.0</td>\n",
       "      <td>Medium</td>\n",
       "    </tr>\n",
       "    <tr>\n",
       "      <th>14997</th>\n",
       "      <td>29</td>\n",
       "      <td>Non-binary</td>\n",
       "      <td>PhD</td>\n",
       "      <td>Married</td>\n",
       "      <td>46250.0</td>\n",
       "      <td>642.0</td>\n",
       "      <td>44369.0</td>\n",
       "      <td>Home</td>\n",
       "      <td>Unemployed</td>\n",
       "      <td>19</td>\n",
       "      <td>Excellent</td>\n",
       "      <td>0.593999</td>\n",
       "      <td>196930.0</td>\n",
       "      <td>4.0</td>\n",
       "      <td>South Morganchester</td>\n",
       "      <td>LA</td>\n",
       "      <td>Palau</td>\n",
       "      <td>2.0</td>\n",
       "      <td>High</td>\n",
       "    </tr>\n",
       "    <tr>\n",
       "      <th>14998</th>\n",
       "      <td>53</td>\n",
       "      <td>Non-binary</td>\n",
       "      <td>PhD</td>\n",
       "      <td>Divorced</td>\n",
       "      <td>40180.0</td>\n",
       "      <td>638.0</td>\n",
       "      <td>32752.0</td>\n",
       "      <td>Home</td>\n",
       "      <td>Self-employed</td>\n",
       "      <td>12</td>\n",
       "      <td>Excellent</td>\n",
       "      <td>0.478035</td>\n",
       "      <td>276060.0</td>\n",
       "      <td>NaN</td>\n",
       "      <td>Port Wayne</td>\n",
       "      <td>AK</td>\n",
       "      <td>Rwanda</td>\n",
       "      <td>0.0</td>\n",
       "      <td>High</td>\n",
       "    </tr>\n",
       "    <tr>\n",
       "      <th>14999</th>\n",
       "      <td>24</td>\n",
       "      <td>Non-binary</td>\n",
       "      <td>Bachelor's</td>\n",
       "      <td>Widowed</td>\n",
       "      <td>NaN</td>\n",
       "      <td>765.0</td>\n",
       "      <td>NaN</td>\n",
       "      <td>Personal</td>\n",
       "      <td>Self-employed</td>\n",
       "      <td>18</td>\n",
       "      <td>Excellent</td>\n",
       "      <td>0.116083</td>\n",
       "      <td>71699.0</td>\n",
       "      <td>3.0</td>\n",
       "      <td>South Stacy</td>\n",
       "      <td>WA</td>\n",
       "      <td>Saint Pierre and Miquelon</td>\n",
       "      <td>3.0</td>\n",
       "      <td>Low</td>\n",
       "    </tr>\n",
       "  </tbody>\n",
       "</table>\n",
       "<p>15000 rows × 19 columns</p>\n",
       "</div>"
      ],
      "text/plain": [
       "       Age      Gender Education Level Marital Status    Income  Credit Score  \\\n",
       "0       49        Male             PhD       Divorced   72799.0         688.0   \n",
       "1       57      Female      Bachelor's        Widowed       NaN         690.0   \n",
       "2       21  Non-binary        Master's         Single   55687.0         600.0   \n",
       "3       59        Male      Bachelor's         Single   26508.0         622.0   \n",
       "4       25  Non-binary      Bachelor's        Widowed   49427.0         766.0   \n",
       "...    ...         ...             ...            ...       ...           ...   \n",
       "14995   23  Non-binary      Bachelor's        Widowed   48088.0         609.0   \n",
       "14996   56        Male             PhD         Single  107193.0         700.0   \n",
       "14997   29  Non-binary             PhD        Married   46250.0         642.0   \n",
       "14998   53  Non-binary             PhD       Divorced   40180.0         638.0   \n",
       "14999   24  Non-binary      Bachelor's        Widowed       NaN         765.0   \n",
       "\n",
       "       Loan Amount Loan Purpose Employment Status  Years at Current Job  \\\n",
       "0          45713.0     Business        Unemployed                    19   \n",
       "1          33835.0         Auto          Employed                     6   \n",
       "2          36623.0         Home          Employed                     8   \n",
       "3          26541.0     Personal        Unemployed                     2   \n",
       "4          36528.0     Personal        Unemployed                    10   \n",
       "...            ...          ...               ...                   ...   \n",
       "14995      26187.0         Home     Self-employed                     2   \n",
       "14996      35111.0         Auto     Self-employed                    10   \n",
       "14997      44369.0         Home        Unemployed                    19   \n",
       "14998      32752.0         Home     Self-employed                    12   \n",
       "14999          NaN     Personal     Self-employed                    18   \n",
       "\n",
       "      Payment History  Debt-to-Income Ratio  Assets Value  \\\n",
       "0                Poor              0.154313      120228.0   \n",
       "1                Fair              0.148920       55849.0   \n",
       "2                Fair              0.362398      180700.0   \n",
       "3           Excellent              0.454964      157319.0   \n",
       "4                Fair              0.143242      287140.0   \n",
       "...               ...                   ...           ...   \n",
       "14995            Fair              0.317633           NaN   \n",
       "14996            Fair              0.155126       79102.0   \n",
       "14997       Excellent              0.593999      196930.0   \n",
       "14998       Excellent              0.478035      276060.0   \n",
       "14999       Excellent              0.116083       71699.0   \n",
       "\n",
       "       Number of Dependents                 City State  \\\n",
       "0                       0.0       Port Elizabeth    AS   \n",
       "1                       0.0      North Catherine    OH   \n",
       "2                       3.0          South Scott    OK   \n",
       "3                       3.0           Robinhaven    PR   \n",
       "4                       NaN          New Heather    IL   \n",
       "...                     ...                  ...   ...   \n",
       "14995                   4.0            Susanstad    TN   \n",
       "14996                   NaN         Port Heather    WA   \n",
       "14997                   4.0  South Morganchester    LA   \n",
       "14998                   NaN           Port Wayne    AK   \n",
       "14999                   3.0          South Stacy    WA   \n",
       "\n",
       "                         Country  Previous Defaults Risk Rating  \n",
       "0                         Cyprus                2.0         Low  \n",
       "1                   Turkmenistan                3.0      Medium  \n",
       "2                     Luxembourg                3.0      Medium  \n",
       "3                         Uganda                4.0      Medium  \n",
       "4                        Namibia                3.0         Low  \n",
       "...                          ...                ...         ...  \n",
       "14995                   Djibouti                2.0         Low  \n",
       "14996                      Congo                0.0      Medium  \n",
       "14997                      Palau                2.0        High  \n",
       "14998                     Rwanda                0.0        High  \n",
       "14999  Saint Pierre and Miquelon                3.0         Low  \n",
       "\n",
       "[15000 rows x 19 columns]"
      ]
     },
     "execution_count": 2,
     "metadata": {},
     "output_type": "execute_result"
    }
   ],
   "source": [
    "df = pd.read_csv(r\"\\Users\\LENOVO\\Downloads\\financial_risk_assessment.csv\")\n",
    "df\n"
   ]
  },
  {
   "cell_type": "code",
   "execution_count": 3,
   "id": "70553253-9142-4702-a940-b88cc58ab095",
   "metadata": {},
   "outputs": [
    {
     "data": {
      "text/html": [
       "<div>\n",
       "<style scoped>\n",
       "    .dataframe tbody tr th:only-of-type {\n",
       "        vertical-align: middle;\n",
       "    }\n",
       "\n",
       "    .dataframe tbody tr th {\n",
       "        vertical-align: top;\n",
       "    }\n",
       "\n",
       "    .dataframe thead th {\n",
       "        text-align: right;\n",
       "    }\n",
       "</style>\n",
       "<table border=\"1\" class=\"dataframe\">\n",
       "  <thead>\n",
       "    <tr style=\"text-align: right;\">\n",
       "      <th></th>\n",
       "      <th>Age</th>\n",
       "      <th>Gender</th>\n",
       "      <th>Education Level</th>\n",
       "      <th>Marital Status</th>\n",
       "      <th>Income</th>\n",
       "      <th>Credit Score</th>\n",
       "      <th>Loan Amount</th>\n",
       "      <th>Loan Purpose</th>\n",
       "      <th>Employment Status</th>\n",
       "      <th>Years at Current Job</th>\n",
       "      <th>Payment History</th>\n",
       "      <th>Debt-to-Income Ratio</th>\n",
       "      <th>Assets Value</th>\n",
       "      <th>Number of Dependents</th>\n",
       "      <th>City</th>\n",
       "      <th>State</th>\n",
       "      <th>Country</th>\n",
       "      <th>Previous Defaults</th>\n",
       "      <th>Risk Rating</th>\n",
       "    </tr>\n",
       "  </thead>\n",
       "  <tbody>\n",
       "    <tr>\n",
       "      <th>0</th>\n",
       "      <td>49</td>\n",
       "      <td>Male</td>\n",
       "      <td>PhD</td>\n",
       "      <td>Divorced</td>\n",
       "      <td>72799.0</td>\n",
       "      <td>688.0</td>\n",
       "      <td>45713.0</td>\n",
       "      <td>Business</td>\n",
       "      <td>Unemployed</td>\n",
       "      <td>19</td>\n",
       "      <td>Poor</td>\n",
       "      <td>0.154313</td>\n",
       "      <td>120228.0</td>\n",
       "      <td>0.0</td>\n",
       "      <td>Port Elizabeth</td>\n",
       "      <td>AS</td>\n",
       "      <td>Cyprus</td>\n",
       "      <td>2.0</td>\n",
       "      <td>Low</td>\n",
       "    </tr>\n",
       "    <tr>\n",
       "      <th>1</th>\n",
       "      <td>57</td>\n",
       "      <td>Female</td>\n",
       "      <td>Bachelor's</td>\n",
       "      <td>Widowed</td>\n",
       "      <td>NaN</td>\n",
       "      <td>690.0</td>\n",
       "      <td>33835.0</td>\n",
       "      <td>Auto</td>\n",
       "      <td>Employed</td>\n",
       "      <td>6</td>\n",
       "      <td>Fair</td>\n",
       "      <td>0.148920</td>\n",
       "      <td>55849.0</td>\n",
       "      <td>0.0</td>\n",
       "      <td>North Catherine</td>\n",
       "      <td>OH</td>\n",
       "      <td>Turkmenistan</td>\n",
       "      <td>3.0</td>\n",
       "      <td>Medium</td>\n",
       "    </tr>\n",
       "    <tr>\n",
       "      <th>2</th>\n",
       "      <td>21</td>\n",
       "      <td>Non-binary</td>\n",
       "      <td>Master's</td>\n",
       "      <td>Single</td>\n",
       "      <td>55687.0</td>\n",
       "      <td>600.0</td>\n",
       "      <td>36623.0</td>\n",
       "      <td>Home</td>\n",
       "      <td>Employed</td>\n",
       "      <td>8</td>\n",
       "      <td>Fair</td>\n",
       "      <td>0.362398</td>\n",
       "      <td>180700.0</td>\n",
       "      <td>3.0</td>\n",
       "      <td>South Scott</td>\n",
       "      <td>OK</td>\n",
       "      <td>Luxembourg</td>\n",
       "      <td>3.0</td>\n",
       "      <td>Medium</td>\n",
       "    </tr>\n",
       "    <tr>\n",
       "      <th>3</th>\n",
       "      <td>59</td>\n",
       "      <td>Male</td>\n",
       "      <td>Bachelor's</td>\n",
       "      <td>Single</td>\n",
       "      <td>26508.0</td>\n",
       "      <td>622.0</td>\n",
       "      <td>26541.0</td>\n",
       "      <td>Personal</td>\n",
       "      <td>Unemployed</td>\n",
       "      <td>2</td>\n",
       "      <td>Excellent</td>\n",
       "      <td>0.454964</td>\n",
       "      <td>157319.0</td>\n",
       "      <td>3.0</td>\n",
       "      <td>Robinhaven</td>\n",
       "      <td>PR</td>\n",
       "      <td>Uganda</td>\n",
       "      <td>4.0</td>\n",
       "      <td>Medium</td>\n",
       "    </tr>\n",
       "    <tr>\n",
       "      <th>4</th>\n",
       "      <td>25</td>\n",
       "      <td>Non-binary</td>\n",
       "      <td>Bachelor's</td>\n",
       "      <td>Widowed</td>\n",
       "      <td>49427.0</td>\n",
       "      <td>766.0</td>\n",
       "      <td>36528.0</td>\n",
       "      <td>Personal</td>\n",
       "      <td>Unemployed</td>\n",
       "      <td>10</td>\n",
       "      <td>Fair</td>\n",
       "      <td>0.143242</td>\n",
       "      <td>287140.0</td>\n",
       "      <td>NaN</td>\n",
       "      <td>New Heather</td>\n",
       "      <td>IL</td>\n",
       "      <td>Namibia</td>\n",
       "      <td>3.0</td>\n",
       "      <td>Low</td>\n",
       "    </tr>\n",
       "  </tbody>\n",
       "</table>\n",
       "</div>"
      ],
      "text/plain": [
       "   Age      Gender Education Level Marital Status   Income  Credit Score  \\\n",
       "0   49        Male             PhD       Divorced  72799.0         688.0   \n",
       "1   57      Female      Bachelor's        Widowed      NaN         690.0   \n",
       "2   21  Non-binary        Master's         Single  55687.0         600.0   \n",
       "3   59        Male      Bachelor's         Single  26508.0         622.0   \n",
       "4   25  Non-binary      Bachelor's        Widowed  49427.0         766.0   \n",
       "\n",
       "   Loan Amount Loan Purpose Employment Status  Years at Current Job  \\\n",
       "0      45713.0     Business        Unemployed                    19   \n",
       "1      33835.0         Auto          Employed                     6   \n",
       "2      36623.0         Home          Employed                     8   \n",
       "3      26541.0     Personal        Unemployed                     2   \n",
       "4      36528.0     Personal        Unemployed                    10   \n",
       "\n",
       "  Payment History  Debt-to-Income Ratio  Assets Value  Number of Dependents  \\\n",
       "0            Poor              0.154313      120228.0                   0.0   \n",
       "1            Fair              0.148920       55849.0                   0.0   \n",
       "2            Fair              0.362398      180700.0                   3.0   \n",
       "3       Excellent              0.454964      157319.0                   3.0   \n",
       "4            Fair              0.143242      287140.0                   NaN   \n",
       "\n",
       "              City State       Country  Previous Defaults Risk Rating  \n",
       "0   Port Elizabeth    AS        Cyprus                2.0         Low  \n",
       "1  North Catherine    OH  Turkmenistan                3.0      Medium  \n",
       "2      South Scott    OK    Luxembourg                3.0      Medium  \n",
       "3       Robinhaven    PR        Uganda                4.0      Medium  \n",
       "4      New Heather    IL       Namibia                3.0         Low  "
      ]
     },
     "execution_count": 3,
     "metadata": {},
     "output_type": "execute_result"
    }
   ],
   "source": [
    "#inspect the first few rows of the dataset\n",
    "df.head()"
   ]
  },
  {
   "cell_type": "code",
   "execution_count": 4,
   "id": "c10d20a0-ab47-4d13-8301-e86d6ba7dda3",
   "metadata": {},
   "outputs": [
    {
     "data": {
      "text/html": [
       "<div>\n",
       "<style scoped>\n",
       "    .dataframe tbody tr th:only-of-type {\n",
       "        vertical-align: middle;\n",
       "    }\n",
       "\n",
       "    .dataframe tbody tr th {\n",
       "        vertical-align: top;\n",
       "    }\n",
       "\n",
       "    .dataframe thead th {\n",
       "        text-align: right;\n",
       "    }\n",
       "</style>\n",
       "<table border=\"1\" class=\"dataframe\">\n",
       "  <thead>\n",
       "    <tr style=\"text-align: right;\">\n",
       "      <th></th>\n",
       "      <th>Age</th>\n",
       "      <th>Gender</th>\n",
       "      <th>Education Level</th>\n",
       "      <th>Marital Status</th>\n",
       "      <th>Income</th>\n",
       "      <th>Credit Score</th>\n",
       "      <th>Loan Amount</th>\n",
       "      <th>Loan Purpose</th>\n",
       "      <th>Employment Status</th>\n",
       "      <th>Years at Current Job</th>\n",
       "      <th>Payment History</th>\n",
       "      <th>Debt-to-Income Ratio</th>\n",
       "      <th>Assets Value</th>\n",
       "      <th>Number of Dependents</th>\n",
       "      <th>City</th>\n",
       "      <th>State</th>\n",
       "      <th>Country</th>\n",
       "      <th>Previous Defaults</th>\n",
       "      <th>Risk Rating</th>\n",
       "    </tr>\n",
       "  </thead>\n",
       "  <tbody>\n",
       "    <tr>\n",
       "      <th>14995</th>\n",
       "      <td>23</td>\n",
       "      <td>Non-binary</td>\n",
       "      <td>Bachelor's</td>\n",
       "      <td>Widowed</td>\n",
       "      <td>48088.0</td>\n",
       "      <td>609.0</td>\n",
       "      <td>26187.0</td>\n",
       "      <td>Home</td>\n",
       "      <td>Self-employed</td>\n",
       "      <td>2</td>\n",
       "      <td>Fair</td>\n",
       "      <td>0.317633</td>\n",
       "      <td>NaN</td>\n",
       "      <td>4.0</td>\n",
       "      <td>Susanstad</td>\n",
       "      <td>TN</td>\n",
       "      <td>Djibouti</td>\n",
       "      <td>2.0</td>\n",
       "      <td>Low</td>\n",
       "    </tr>\n",
       "    <tr>\n",
       "      <th>14996</th>\n",
       "      <td>56</td>\n",
       "      <td>Male</td>\n",
       "      <td>PhD</td>\n",
       "      <td>Single</td>\n",
       "      <td>107193.0</td>\n",
       "      <td>700.0</td>\n",
       "      <td>35111.0</td>\n",
       "      <td>Auto</td>\n",
       "      <td>Self-employed</td>\n",
       "      <td>10</td>\n",
       "      <td>Fair</td>\n",
       "      <td>0.155126</td>\n",
       "      <td>79102.0</td>\n",
       "      <td>NaN</td>\n",
       "      <td>Port Heather</td>\n",
       "      <td>WA</td>\n",
       "      <td>Congo</td>\n",
       "      <td>0.0</td>\n",
       "      <td>Medium</td>\n",
       "    </tr>\n",
       "    <tr>\n",
       "      <th>14997</th>\n",
       "      <td>29</td>\n",
       "      <td>Non-binary</td>\n",
       "      <td>PhD</td>\n",
       "      <td>Married</td>\n",
       "      <td>46250.0</td>\n",
       "      <td>642.0</td>\n",
       "      <td>44369.0</td>\n",
       "      <td>Home</td>\n",
       "      <td>Unemployed</td>\n",
       "      <td>19</td>\n",
       "      <td>Excellent</td>\n",
       "      <td>0.593999</td>\n",
       "      <td>196930.0</td>\n",
       "      <td>4.0</td>\n",
       "      <td>South Morganchester</td>\n",
       "      <td>LA</td>\n",
       "      <td>Palau</td>\n",
       "      <td>2.0</td>\n",
       "      <td>High</td>\n",
       "    </tr>\n",
       "    <tr>\n",
       "      <th>14998</th>\n",
       "      <td>53</td>\n",
       "      <td>Non-binary</td>\n",
       "      <td>PhD</td>\n",
       "      <td>Divorced</td>\n",
       "      <td>40180.0</td>\n",
       "      <td>638.0</td>\n",
       "      <td>32752.0</td>\n",
       "      <td>Home</td>\n",
       "      <td>Self-employed</td>\n",
       "      <td>12</td>\n",
       "      <td>Excellent</td>\n",
       "      <td>0.478035</td>\n",
       "      <td>276060.0</td>\n",
       "      <td>NaN</td>\n",
       "      <td>Port Wayne</td>\n",
       "      <td>AK</td>\n",
       "      <td>Rwanda</td>\n",
       "      <td>0.0</td>\n",
       "      <td>High</td>\n",
       "    </tr>\n",
       "    <tr>\n",
       "      <th>14999</th>\n",
       "      <td>24</td>\n",
       "      <td>Non-binary</td>\n",
       "      <td>Bachelor's</td>\n",
       "      <td>Widowed</td>\n",
       "      <td>NaN</td>\n",
       "      <td>765.0</td>\n",
       "      <td>NaN</td>\n",
       "      <td>Personal</td>\n",
       "      <td>Self-employed</td>\n",
       "      <td>18</td>\n",
       "      <td>Excellent</td>\n",
       "      <td>0.116083</td>\n",
       "      <td>71699.0</td>\n",
       "      <td>3.0</td>\n",
       "      <td>South Stacy</td>\n",
       "      <td>WA</td>\n",
       "      <td>Saint Pierre and Miquelon</td>\n",
       "      <td>3.0</td>\n",
       "      <td>Low</td>\n",
       "    </tr>\n",
       "  </tbody>\n",
       "</table>\n",
       "</div>"
      ],
      "text/plain": [
       "       Age      Gender Education Level Marital Status    Income  Credit Score  \\\n",
       "14995   23  Non-binary      Bachelor's        Widowed   48088.0         609.0   \n",
       "14996   56        Male             PhD         Single  107193.0         700.0   \n",
       "14997   29  Non-binary             PhD        Married   46250.0         642.0   \n",
       "14998   53  Non-binary             PhD       Divorced   40180.0         638.0   \n",
       "14999   24  Non-binary      Bachelor's        Widowed       NaN         765.0   \n",
       "\n",
       "       Loan Amount Loan Purpose Employment Status  Years at Current Job  \\\n",
       "14995      26187.0         Home     Self-employed                     2   \n",
       "14996      35111.0         Auto     Self-employed                    10   \n",
       "14997      44369.0         Home        Unemployed                    19   \n",
       "14998      32752.0         Home     Self-employed                    12   \n",
       "14999          NaN     Personal     Self-employed                    18   \n",
       "\n",
       "      Payment History  Debt-to-Income Ratio  Assets Value  \\\n",
       "14995            Fair              0.317633           NaN   \n",
       "14996            Fair              0.155126       79102.0   \n",
       "14997       Excellent              0.593999      196930.0   \n",
       "14998       Excellent              0.478035      276060.0   \n",
       "14999       Excellent              0.116083       71699.0   \n",
       "\n",
       "       Number of Dependents                 City State  \\\n",
       "14995                   4.0            Susanstad    TN   \n",
       "14996                   NaN         Port Heather    WA   \n",
       "14997                   4.0  South Morganchester    LA   \n",
       "14998                   NaN           Port Wayne    AK   \n",
       "14999                   3.0          South Stacy    WA   \n",
       "\n",
       "                         Country  Previous Defaults Risk Rating  \n",
       "14995                   Djibouti                2.0         Low  \n",
       "14996                      Congo                0.0      Medium  \n",
       "14997                      Palau                2.0        High  \n",
       "14998                     Rwanda                0.0        High  \n",
       "14999  Saint Pierre and Miquelon                3.0         Low  "
      ]
     },
     "execution_count": 4,
     "metadata": {},
     "output_type": "execute_result"
    }
   ],
   "source": [
    "df.tail()"
   ]
  },
  {
   "cell_type": "code",
   "execution_count": 3,
   "id": "403b2bf5-e26a-4b06-be7c-58130fc80e13",
   "metadata": {},
   "outputs": [
    {
     "data": {
      "text/plain": [
       "(15000, 19)"
      ]
     },
     "execution_count": 3,
     "metadata": {},
     "output_type": "execute_result"
    }
   ],
   "source": [
    "#Shape of the data\n",
    "df.shape"
   ]
  },
  {
   "cell_type": "code",
   "execution_count": 4,
   "id": "54fc8c2d-dd43-4b09-a805-b98e2415576d",
   "metadata": {},
   "outputs": [
    {
     "data": {
      "text/plain": [
       "285000"
      ]
     },
     "execution_count": 4,
     "metadata": {},
     "output_type": "execute_result"
    }
   ],
   "source": [
    "df.size"
   ]
  },
  {
   "cell_type": "code",
   "execution_count": 8,
   "id": "1147cd02-0848-4ac7-8a0e-7ced19d1c6ea",
   "metadata": {},
   "outputs": [
    {
     "data": {
      "text/plain": [
       "Index(['Age', 'Gender', 'Education Level', 'Marital Status', 'Income',\n",
       "       'Credit Score', 'Loan Amount', 'Loan Purpose', 'Employment Status',\n",
       "       'Years at Current Job', 'Payment History', 'Debt-to-Income Ratio',\n",
       "       'Assets Value', 'Number of Dependents', 'City', 'State', 'Country',\n",
       "       'Previous Defaults', 'Risk Rating'],\n",
       "      dtype='object')"
      ]
     },
     "execution_count": 8,
     "metadata": {},
     "output_type": "execute_result"
    }
   ],
   "source": [
    "df.columns"
   ]
  },
  {
   "cell_type": "code",
   "execution_count": 5,
   "id": "3f025c4c-5476-4d50-b412-7c5ebddbc85a",
   "metadata": {},
   "outputs": [
    {
     "data": {
      "text/html": [
       "<div>\n",
       "<style scoped>\n",
       "    .dataframe tbody tr th:only-of-type {\n",
       "        vertical-align: middle;\n",
       "    }\n",
       "\n",
       "    .dataframe tbody tr th {\n",
       "        vertical-align: top;\n",
       "    }\n",
       "\n",
       "    .dataframe thead th {\n",
       "        text-align: right;\n",
       "    }\n",
       "</style>\n",
       "<table border=\"1\" class=\"dataframe\">\n",
       "  <thead>\n",
       "    <tr style=\"text-align: right;\">\n",
       "      <th></th>\n",
       "      <th>count</th>\n",
       "      <th>mean</th>\n",
       "      <th>std</th>\n",
       "      <th>min</th>\n",
       "      <th>25%</th>\n",
       "      <th>50%</th>\n",
       "      <th>75%</th>\n",
       "      <th>max</th>\n",
       "    </tr>\n",
       "  </thead>\n",
       "  <tbody>\n",
       "    <tr>\n",
       "      <th>Age</th>\n",
       "      <td>15000.0</td>\n",
       "      <td>43.452667</td>\n",
       "      <td>14.910732</td>\n",
       "      <td>18.000000</td>\n",
       "      <td>31.000000</td>\n",
       "      <td>43.000000</td>\n",
       "      <td>56.000000</td>\n",
       "      <td>69.00000</td>\n",
       "    </tr>\n",
       "    <tr>\n",
       "      <th>Income</th>\n",
       "      <td>12750.0</td>\n",
       "      <td>69933.398510</td>\n",
       "      <td>29163.626207</td>\n",
       "      <td>20005.000000</td>\n",
       "      <td>44281.500000</td>\n",
       "      <td>69773.000000</td>\n",
       "      <td>95922.750000</td>\n",
       "      <td>119997.00000</td>\n",
       "    </tr>\n",
       "    <tr>\n",
       "      <th>Credit Score</th>\n",
       "      <td>12750.0</td>\n",
       "      <td>699.109098</td>\n",
       "      <td>57.229465</td>\n",
       "      <td>600.000000</td>\n",
       "      <td>650.000000</td>\n",
       "      <td>699.000000</td>\n",
       "      <td>748.000000</td>\n",
       "      <td>799.00000</td>\n",
       "    </tr>\n",
       "    <tr>\n",
       "      <th>Loan Amount</th>\n",
       "      <td>12750.0</td>\n",
       "      <td>27450.010902</td>\n",
       "      <td>12949.940135</td>\n",
       "      <td>5000.000000</td>\n",
       "      <td>16352.500000</td>\n",
       "      <td>27544.000000</td>\n",
       "      <td>38547.500000</td>\n",
       "      <td>49998.00000</td>\n",
       "    </tr>\n",
       "    <tr>\n",
       "      <th>Years at Current Job</th>\n",
       "      <td>15000.0</td>\n",
       "      <td>9.476267</td>\n",
       "      <td>5.769707</td>\n",
       "      <td>0.000000</td>\n",
       "      <td>4.000000</td>\n",
       "      <td>9.000000</td>\n",
       "      <td>15.000000</td>\n",
       "      <td>19.00000</td>\n",
       "    </tr>\n",
       "    <tr>\n",
       "      <th>Debt-to-Income Ratio</th>\n",
       "      <td>15000.0</td>\n",
       "      <td>0.350438</td>\n",
       "      <td>0.143919</td>\n",
       "      <td>0.100004</td>\n",
       "      <td>0.227386</td>\n",
       "      <td>0.350754</td>\n",
       "      <td>0.476095</td>\n",
       "      <td>0.59997</td>\n",
       "    </tr>\n",
       "    <tr>\n",
       "      <th>Assets Value</th>\n",
       "      <td>12750.0</td>\n",
       "      <td>159741.497176</td>\n",
       "      <td>80298.115832</td>\n",
       "      <td>20055.000000</td>\n",
       "      <td>90635.250000</td>\n",
       "      <td>159362.000000</td>\n",
       "      <td>228707.000000</td>\n",
       "      <td>299999.00000</td>\n",
       "    </tr>\n",
       "    <tr>\n",
       "      <th>Number of Dependents</th>\n",
       "      <td>12750.0</td>\n",
       "      <td>2.026510</td>\n",
       "      <td>1.411300</td>\n",
       "      <td>0.000000</td>\n",
       "      <td>1.000000</td>\n",
       "      <td>2.000000</td>\n",
       "      <td>3.000000</td>\n",
       "      <td>4.00000</td>\n",
       "    </tr>\n",
       "    <tr>\n",
       "      <th>Previous Defaults</th>\n",
       "      <td>12750.0</td>\n",
       "      <td>1.992471</td>\n",
       "      <td>1.416909</td>\n",
       "      <td>0.000000</td>\n",
       "      <td>1.000000</td>\n",
       "      <td>2.000000</td>\n",
       "      <td>3.000000</td>\n",
       "      <td>4.00000</td>\n",
       "    </tr>\n",
       "  </tbody>\n",
       "</table>\n",
       "</div>"
      ],
      "text/plain": [
       "                        count           mean           std           min  \\\n",
       "Age                   15000.0      43.452667     14.910732     18.000000   \n",
       "Income                12750.0   69933.398510  29163.626207  20005.000000   \n",
       "Credit Score          12750.0     699.109098     57.229465    600.000000   \n",
       "Loan Amount           12750.0   27450.010902  12949.940135   5000.000000   \n",
       "Years at Current Job  15000.0       9.476267      5.769707      0.000000   \n",
       "Debt-to-Income Ratio  15000.0       0.350438      0.143919      0.100004   \n",
       "Assets Value          12750.0  159741.497176  80298.115832  20055.000000   \n",
       "Number of Dependents  12750.0       2.026510      1.411300      0.000000   \n",
       "Previous Defaults     12750.0       1.992471      1.416909      0.000000   \n",
       "\n",
       "                               25%            50%            75%           max  \n",
       "Age                      31.000000      43.000000      56.000000      69.00000  \n",
       "Income                44281.500000   69773.000000   95922.750000  119997.00000  \n",
       "Credit Score            650.000000     699.000000     748.000000     799.00000  \n",
       "Loan Amount           16352.500000   27544.000000   38547.500000   49998.00000  \n",
       "Years at Current Job      4.000000       9.000000      15.000000      19.00000  \n",
       "Debt-to-Income Ratio      0.227386       0.350754       0.476095       0.59997  \n",
       "Assets Value          90635.250000  159362.000000  228707.000000  299999.00000  \n",
       "Number of Dependents      1.000000       2.000000       3.000000       4.00000  \n",
       "Previous Defaults         1.000000       2.000000       3.000000       4.00000  "
      ]
     },
     "execution_count": 5,
     "metadata": {},
     "output_type": "execute_result"
    }
   ],
   "source": [
    "# Statistical Summary of data\n",
    "data.describe().T"
   ]
  },
  {
   "cell_type": "code",
   "execution_count": 10,
   "id": "10207d11-5edf-45d5-8e95-e20a8270f8a8",
   "metadata": {
    "scrolled": true
   },
   "outputs": [
    {
     "name": "stdout",
     "output_type": "stream",
     "text": [
      "<class 'pandas.core.frame.DataFrame'>\n",
      "RangeIndex: 15000 entries, 0 to 14999\n",
      "Data columns (total 19 columns):\n",
      " #   Column                Non-Null Count  Dtype  \n",
      "---  ------                --------------  -----  \n",
      " 0   Age                   15000 non-null  int64  \n",
      " 1   Gender                15000 non-null  object \n",
      " 2   Education Level       15000 non-null  object \n",
      " 3   Marital Status        15000 non-null  object \n",
      " 4   Income                12750 non-null  float64\n",
      " 5   Credit Score          12750 non-null  float64\n",
      " 6   Loan Amount           12750 non-null  float64\n",
      " 7   Loan Purpose          15000 non-null  object \n",
      " 8   Employment Status     15000 non-null  object \n",
      " 9   Years at Current Job  15000 non-null  int64  \n",
      " 10  Payment History       15000 non-null  object \n",
      " 11  Debt-to-Income Ratio  15000 non-null  float64\n",
      " 12  Assets Value          12750 non-null  float64\n",
      " 13  Number of Dependents  12750 non-null  float64\n",
      " 14  City                  15000 non-null  object \n",
      " 15  State                 15000 non-null  object \n",
      " 16  Country               15000 non-null  object \n",
      " 17  Previous Defaults     12750 non-null  float64\n",
      " 18  Risk Rating           15000 non-null  object \n",
      "dtypes: float64(7), int64(2), object(10)\n",
      "memory usage: 2.2+ MB\n"
     ]
    }
   ],
   "source": [
    "# Information about the data\n",
    "df.info()"
   ]
  },
  {
   "cell_type": "code",
   "execution_count": 12,
   "id": "dedb08c4-17cd-49f3-b69b-7e15f5aa1ac7",
   "metadata": {},
   "outputs": [
    {
     "data": {
      "text/html": [
       "<div>\n",
       "<style scoped>\n",
       "    .dataframe tbody tr th:only-of-type {\n",
       "        vertical-align: middle;\n",
       "    }\n",
       "\n",
       "    .dataframe tbody tr th {\n",
       "        vertical-align: top;\n",
       "    }\n",
       "\n",
       "    .dataframe thead th {\n",
       "        text-align: right;\n",
       "    }\n",
       "</style>\n",
       "<table border=\"1\" class=\"dataframe\">\n",
       "  <thead>\n",
       "    <tr style=\"text-align: right;\">\n",
       "      <th></th>\n",
       "      <th>0</th>\n",
       "    </tr>\n",
       "  </thead>\n",
       "  <tbody>\n",
       "    <tr>\n",
       "      <th>Age</th>\n",
       "      <td>int64</td>\n",
       "    </tr>\n",
       "    <tr>\n",
       "      <th>Gender</th>\n",
       "      <td>object</td>\n",
       "    </tr>\n",
       "    <tr>\n",
       "      <th>Education Level</th>\n",
       "      <td>object</td>\n",
       "    </tr>\n",
       "    <tr>\n",
       "      <th>Marital Status</th>\n",
       "      <td>object</td>\n",
       "    </tr>\n",
       "    <tr>\n",
       "      <th>Income</th>\n",
       "      <td>float64</td>\n",
       "    </tr>\n",
       "    <tr>\n",
       "      <th>Credit Score</th>\n",
       "      <td>float64</td>\n",
       "    </tr>\n",
       "    <tr>\n",
       "      <th>Loan Amount</th>\n",
       "      <td>float64</td>\n",
       "    </tr>\n",
       "    <tr>\n",
       "      <th>Loan Purpose</th>\n",
       "      <td>object</td>\n",
       "    </tr>\n",
       "    <tr>\n",
       "      <th>Employment Status</th>\n",
       "      <td>object</td>\n",
       "    </tr>\n",
       "    <tr>\n",
       "      <th>Years at Current Job</th>\n",
       "      <td>int64</td>\n",
       "    </tr>\n",
       "    <tr>\n",
       "      <th>Payment History</th>\n",
       "      <td>object</td>\n",
       "    </tr>\n",
       "    <tr>\n",
       "      <th>Debt-to-Income Ratio</th>\n",
       "      <td>float64</td>\n",
       "    </tr>\n",
       "    <tr>\n",
       "      <th>Assets Value</th>\n",
       "      <td>float64</td>\n",
       "    </tr>\n",
       "    <tr>\n",
       "      <th>Number of Dependents</th>\n",
       "      <td>float64</td>\n",
       "    </tr>\n",
       "    <tr>\n",
       "      <th>City</th>\n",
       "      <td>object</td>\n",
       "    </tr>\n",
       "    <tr>\n",
       "      <th>State</th>\n",
       "      <td>object</td>\n",
       "    </tr>\n",
       "    <tr>\n",
       "      <th>Country</th>\n",
       "      <td>object</td>\n",
       "    </tr>\n",
       "    <tr>\n",
       "      <th>Previous Defaults</th>\n",
       "      <td>float64</td>\n",
       "    </tr>\n",
       "    <tr>\n",
       "      <th>Risk Rating</th>\n",
       "      <td>object</td>\n",
       "    </tr>\n",
       "  </tbody>\n",
       "</table>\n",
       "</div>"
      ],
      "text/plain": [
       "                            0\n",
       "Age                     int64\n",
       "Gender                 object\n",
       "Education Level        object\n",
       "Marital Status         object\n",
       "Income                float64\n",
       "Credit Score          float64\n",
       "Loan Amount           float64\n",
       "Loan Purpose           object\n",
       "Employment Status      object\n",
       "Years at Current Job    int64\n",
       "Payment History        object\n",
       "Debt-to-Income Ratio  float64\n",
       "Assets Value          float64\n",
       "Number of Dependents  float64\n",
       "City                   object\n",
       "State                  object\n",
       "Country                object\n",
       "Previous Defaults     float64\n",
       "Risk Rating            object"
      ]
     },
     "execution_count": 12,
     "metadata": {},
     "output_type": "execute_result"
    }
   ],
   "source": [
    "# identify datatypes of the columns.\n",
    "pd.DataFrame(df.dtypes)\n"
   ]
  },
  {
   "cell_type": "code",
   "execution_count": 6,
   "id": "11bf5338-d57b-4e52-857e-42bc2a14d12b",
   "metadata": {
    "scrolled": true
   },
   "outputs": [
    {
     "data": {
      "text/plain": [
       "Age                        52\n",
       "Gender                      3\n",
       "Education Level             4\n",
       "Marital Status              4\n",
       "Income                  11957\n",
       "Credit Score              200\n",
       "Loan Amount             11088\n",
       "Loan Purpose                4\n",
       "Employment Status           3\n",
       "Years at Current Job       20\n",
       "Payment History             4\n",
       "Debt-to-Income Ratio    15000\n",
       "Assets Value            12470\n",
       "Number of Dependents        5\n",
       "City                    10614\n",
       "State                      59\n",
       "Country                   243\n",
       "Previous Defaults           5\n",
       "Risk Rating                 3\n",
       "dtype: int64"
      ]
     },
     "execution_count": 6,
     "metadata": {},
     "output_type": "execute_result"
    }
   ],
   "source": [
    "df.nunique()"
   ]
  },
  {
   "cell_type": "code",
   "execution_count": 15,
   "id": "797dec48-974a-4e32-8767-b331ff9b57b1",
   "metadata": {
    "scrolled": true
   },
   "outputs": [
    {
     "name": "stdout",
     "output_type": "stream",
     "text": [
      "Age\n",
      "[49 57 21 59 25 30 31 18 32 55 42 37 60 68 29 56 26 22 64 41 36 34 48 69\n",
      " 46 47 35 67 28 65 39 27 54 19 44 20 62 66 50 38 24 23 40 45 43 58 52 33\n",
      " 53 63 51 61]\n",
      "--------------------------------------------------\n",
      "\n",
      "\n",
      "Gender\n",
      "['Male' 'Female' 'Non-binary']\n",
      "--------------------------------------------------\n",
      "\n",
      "\n",
      "Education Level\n",
      "['PhD' \"Bachelor's\" \"Master's\" 'High School']\n",
      "--------------------------------------------------\n",
      "\n",
      "\n",
      "Marital Status\n",
      "['Divorced' 'Widowed' 'Single' 'Married']\n",
      "--------------------------------------------------\n",
      "\n",
      "\n",
      "Income\n",
      "[ 72799.     nan  55687. ...  48088. 107193.  40180.]\n",
      "--------------------------------------------------\n",
      "\n",
      "\n",
      "Credit Score\n",
      "[688. 690. 600. 622. 766. 717. 672.  nan 710. 707. 718. 686. 706. 654.\n",
      " 738. 702. 796. 664. 641. 742. 667. 791. 749. 636. 632. 673. 637. 685.\n",
      " 604. 606. 783. 715. 748. 631. 691. 703. 763. 721. 613. 727. 764. 608.\n",
      " 635. 612. 720. 712. 647. 649. 750. 650. 700. 692. 793. 726. 615. 708.\n",
      " 627. 680. 670. 792. 640. 734. 617. 663. 770. 740. 645. 687. 731. 699.\n",
      " 724. 629. 776. 660. 634. 735. 722. 624. 651. 655. 711. 697. 689. 771.\n",
      " 669. 713. 760. 755. 743. 618. 623. 757. 643. 675. 728. 784. 661. 681.\n",
      " 716. 753. 611. 705. 790. 684. 769. 786. 602. 747. 736. 704. 799. 625.\n",
      " 658. 630. 754. 693. 775. 698. 642. 744. 646. 621. 779. 733. 676. 695.\n",
      " 797. 732. 639. 785. 694. 746. 745. 668. 725. 656. 671. 787. 773. 777.\n",
      " 756. 759. 601. 644. 610. 798. 741. 729. 752. 679. 794. 609. 616. 701.\n",
      " 648. 768. 638. 774. 662. 782. 788. 626. 620. 633. 696. 778. 761. 605.\n",
      " 772. 652. 603. 628. 614. 709. 730. 678. 781. 665. 677. 780. 719. 789.\n",
      " 762. 765. 683. 737. 666. 659. 714. 657. 795. 723. 758. 751. 739. 607.\n",
      " 619. 674. 653. 682. 767.]\n",
      "--------------------------------------------------\n",
      "\n",
      "\n",
      "Loan Amount\n",
      "[45713. 33835. 36623. ... 35111. 44369. 32752.]\n",
      "--------------------------------------------------\n",
      "\n",
      "\n",
      "Loan Purpose\n",
      "['Business' 'Auto' 'Home' 'Personal']\n",
      "--------------------------------------------------\n",
      "\n",
      "\n",
      "Employment Status\n",
      "['Unemployed' 'Employed' 'Self-employed']\n",
      "--------------------------------------------------\n",
      "\n",
      "\n",
      "Years at Current Job\n",
      "[19  6  8  2 10  5  1  4 11 17 18 15  7 12 16 13  3 14  9  0]\n",
      "--------------------------------------------------\n",
      "\n",
      "\n",
      "Payment History\n",
      "['Poor' 'Fair' 'Excellent' 'Good']\n",
      "--------------------------------------------------\n",
      "\n",
      "\n",
      "Debt-to-Income Ratio\n",
      "[0.1543133  0.14891964 0.36239802 ... 0.593999   0.4780354  0.1160827 ]\n",
      "--------------------------------------------------\n",
      "\n",
      "\n",
      "Assets Value\n",
      "[120228.  55849. 180700. ... 196930. 276060.  71699.]\n",
      "--------------------------------------------------\n",
      "\n",
      "\n",
      "Number of Dependents\n",
      "[ 0.  3. nan  4.  1.  2.]\n",
      "--------------------------------------------------\n",
      "\n",
      "\n",
      "City\n",
      "['Port Elizabeth' 'North Catherine' 'South Scott' ... 'Susanstad'\n",
      " 'South Morganchester' 'Port Wayne']\n",
      "--------------------------------------------------\n",
      "\n",
      "\n",
      "State\n",
      "['AS' 'OH' 'OK' 'PR' 'IL' 'TN' 'MD' 'MA' 'DC' 'VT' 'NH' 'NM' 'IA' 'AZ'\n",
      " 'MH' 'MO' 'MS' 'MP' 'DE' 'UT' 'KS' 'VI' 'CO' 'OR' 'VA' 'GA' 'ID' 'HI'\n",
      " 'AL' 'TX' 'WY' 'KY' 'WA' 'RI' 'LA' 'MI' 'WV' 'ND' 'NY' 'NJ' 'CT' 'PW'\n",
      " 'NV' 'FM' 'CA' 'NC' 'IN' 'GU' 'AR' 'WI' 'SD' 'MT' 'MN' 'NE' 'SC' 'ME'\n",
      " 'AK' 'PA' 'FL']\n",
      "--------------------------------------------------\n",
      "\n",
      "\n",
      "Country\n",
      "['Cyprus' 'Turkmenistan' 'Luxembourg' 'Uganda' 'Namibia' 'Iceland'\n",
      " 'Bouvet Island (Bouvetoya)' 'Honduras' 'Pitcairn Islands' 'Thailand'\n",
      " 'French Guiana' 'Antarctica (the territory South of 60 deg S)' 'Eritrea'\n",
      " 'Grenada' 'Solomon Islands' 'Guadeloupe' 'Tonga' 'Taiwan' 'Malawi'\n",
      " 'Isle of Man' 'Kenya' 'Zambia' 'Oman' 'Uruguay' 'Gambia' 'Iran'\n",
      " 'South Georgia and the South Sandwich Islands' 'Palau' 'Tokelau'\n",
      " 'Saint Pierre and Miquelon' 'Hungary' 'Guyana' \"Cote d'Ivoire\" 'Nauru'\n",
      " 'Guam' 'Burundi' 'Belize' 'Seychelles' 'Sao Tome and Principe' 'Anguilla'\n",
      " 'Svalbard & Jan Mayen Islands' 'China' 'Niue' 'Martinique' 'Tajikistan'\n",
      " 'Vietnam' 'Kuwait' 'Falkland Islands (Malvinas)'\n",
      " 'British Indian Ocean Territory (Chagos Archipelago)'\n",
      " 'Holy See (Vatican City State)' 'Singapore' 'Georgia' 'Dominica'\n",
      " 'Brunei Darussalam' 'French Polynesia' 'Zimbabwe' 'Serbia' 'Pakistan'\n",
      " 'Haiti' 'San Marino' 'Kazakhstan' 'Armenia' 'Netherlands' 'Greece'\n",
      " 'Somalia' 'Latvia' 'Mexico' 'French Southern Territories' 'South Africa'\n",
      " 'Egypt' 'Jordan' 'Turkey' 'Swaziland' 'Botswana' 'Russian Federation'\n",
      " 'Mali' 'Ukraine' 'Ethiopia' 'Togo' 'Angola' 'Guatemala'\n",
      " 'United States Minor Outlying Islands' 'Monaco' 'Romania'\n",
      " 'Palestinian Territory' 'Suriname' 'Costa Rica' 'Lesotho' 'Brazil'\n",
      " 'India' 'Mayotte' 'Finland' 'Argentina' 'Paraguay' 'Mozambique'\n",
      " 'El Salvador' 'Netherlands Antilles' 'Jersey' 'Maldives' 'Samoa'\n",
      " 'Bosnia and Herzegovina' 'Wallis and Futuna' 'Sweden' 'Micronesia'\n",
      " 'Azerbaijan' 'Myanmar' 'Czech Republic' 'Guinea-Bissau' 'Austria'\n",
      " 'Indonesia' 'Peru' 'Norway' 'Algeria' 'Bangladesh' 'American Samoa'\n",
      " 'Ireland' 'Japan' 'Australia' 'Panama' 'United States Virgin Islands'\n",
      " 'Andorra' 'Cape Verde' 'Cocos (Keeling) Islands' 'United Arab Emirates'\n",
      " 'Burkina Faso' 'Kiribati' 'Niger' 'Slovakia (Slovak Republic)' 'Chile'\n",
      " 'Libyan Arab Jamahiriya' 'Djibouti' 'Yemen' 'Comoros' 'Western Sahara'\n",
      " 'Vanuatu' 'North Macedonia' 'Puerto Rico' 'Mauritania' 'New Caledonia'\n",
      " 'Senegal' 'Lebanon' 'Marshall Islands' 'Moldova' 'Italy' 'Morocco' 'Iraq'\n",
      " 'Canada' 'Bulgaria' 'Saint Helena' 'Macao' 'Malta' 'Montserrat'\n",
      " 'Mauritius' 'Norfolk Island' 'Liberia' 'Germany' 'Qatar' 'Saint Martin'\n",
      " 'Tanzania' 'Hong Kong' 'Rwanda' 'Congo' 'Saint Lucia' 'Belgium' 'France'\n",
      " 'Bermuda' 'Liechtenstein' 'Fiji' 'Sri Lanka' 'Tunisia' 'Cuba' 'Sudan'\n",
      " 'Reunion' 'Bhutan' 'Belarus' 'United States of America' 'Faroe Islands'\n",
      " 'Greenland' 'Cook Islands' 'Heard Island and McDonald Islands'\n",
      " 'Saint Kitts and Nevis' 'Equatorial Guinea' 'Slovenia' 'Tuvalu' 'Korea'\n",
      " 'Portugal' 'Aruba' 'Christmas Island' 'Cambodia' 'Chad' 'Gabon' 'Denmark'\n",
      " 'Saint Barthelemy' 'Ecuador' 'Sierra Leone' 'Papua New Guinea' 'Poland'\n",
      " 'Afghanistan' 'Saint Vincent and the Grenadines' 'Nigeria' 'Timor-Leste'\n",
      " 'Malaysia' 'Cameroon' 'Trinidad and Tobago' 'Montenegro'\n",
      " 'Kyrgyz Republic' 'Antigua and Barbuda' 'Israel' 'Guinea' 'Venezuela'\n",
      " 'Bolivia' 'Benin' 'Barbados' 'Guernsey' 'Central African Republic'\n",
      " 'Saudi Arabia' 'Bahamas' 'Madagascar' 'Cayman Islands' 'Uzbekistan'\n",
      " 'Northern Mariana Islands' 'Dominican Republic' 'Gibraltar'\n",
      " 'United Kingdom' 'Nicaragua' 'Bahrain' 'New Zealand' 'Jamaica' 'Croatia'\n",
      " 'Mongolia' 'Turks and Caicos Islands' 'Syrian Arab Republic' 'Albania'\n",
      " 'Nepal' 'Estonia' 'Spain' 'Colombia' 'Ghana' 'Philippines'\n",
      " \"Lao People's Democratic Republic\" 'British Virgin Islands' 'Lithuania'\n",
      " 'Switzerland']\n",
      "--------------------------------------------------\n",
      "\n",
      "\n",
      "Previous Defaults\n",
      "[ 2.  3.  4.  0.  1. nan]\n",
      "--------------------------------------------------\n",
      "\n",
      "\n",
      "Risk Rating\n",
      "['Low' 'Medium' 'High']\n",
      "--------------------------------------------------\n",
      "\n",
      "\n"
     ]
    }
   ],
   "source": [
    "for x in df:\n",
    "    print(x)\n",
    "    print(df[x].unique())\n",
    "    print(50*'-')\n",
    "    print('\\n')"
   ]
  },
  {
   "cell_type": "code",
   "execution_count": 16,
   "id": "14531363-8003-4920-8f74-9e020a047f5e",
   "metadata": {},
   "outputs": [
    {
     "data": {
      "text/plain": [
       "0"
      ]
     },
     "execution_count": 16,
     "metadata": {},
     "output_type": "execute_result"
    }
   ],
   "source": [
    "df.duplicated().sum()"
   ]
  },
  {
   "cell_type": "code",
   "execution_count": 17,
   "id": "1e48f629-55bd-4584-8427-706b92386b1d",
   "metadata": {
    "scrolled": true
   },
   "outputs": [
    {
     "data": {
      "text/html": [
       "<div>\n",
       "<style scoped>\n",
       "    .dataframe tbody tr th:only-of-type {\n",
       "        vertical-align: middle;\n",
       "    }\n",
       "\n",
       "    .dataframe tbody tr th {\n",
       "        vertical-align: top;\n",
       "    }\n",
       "\n",
       "    .dataframe thead th {\n",
       "        text-align: right;\n",
       "    }\n",
       "</style>\n",
       "<table border=\"1\" class=\"dataframe\">\n",
       "  <thead>\n",
       "    <tr style=\"text-align: right;\">\n",
       "      <th></th>\n",
       "      <th>0</th>\n",
       "    </tr>\n",
       "  </thead>\n",
       "  <tbody>\n",
       "    <tr>\n",
       "      <th>Age</th>\n",
       "      <td>0</td>\n",
       "    </tr>\n",
       "    <tr>\n",
       "      <th>Gender</th>\n",
       "      <td>0</td>\n",
       "    </tr>\n",
       "    <tr>\n",
       "      <th>Education Level</th>\n",
       "      <td>0</td>\n",
       "    </tr>\n",
       "    <tr>\n",
       "      <th>Marital Status</th>\n",
       "      <td>0</td>\n",
       "    </tr>\n",
       "    <tr>\n",
       "      <th>Income</th>\n",
       "      <td>2250</td>\n",
       "    </tr>\n",
       "    <tr>\n",
       "      <th>Credit Score</th>\n",
       "      <td>2250</td>\n",
       "    </tr>\n",
       "    <tr>\n",
       "      <th>Loan Amount</th>\n",
       "      <td>2250</td>\n",
       "    </tr>\n",
       "    <tr>\n",
       "      <th>Loan Purpose</th>\n",
       "      <td>0</td>\n",
       "    </tr>\n",
       "    <tr>\n",
       "      <th>Employment Status</th>\n",
       "      <td>0</td>\n",
       "    </tr>\n",
       "    <tr>\n",
       "      <th>Years at Current Job</th>\n",
       "      <td>0</td>\n",
       "    </tr>\n",
       "    <tr>\n",
       "      <th>Payment History</th>\n",
       "      <td>0</td>\n",
       "    </tr>\n",
       "    <tr>\n",
       "      <th>Debt-to-Income Ratio</th>\n",
       "      <td>0</td>\n",
       "    </tr>\n",
       "    <tr>\n",
       "      <th>Assets Value</th>\n",
       "      <td>2250</td>\n",
       "    </tr>\n",
       "    <tr>\n",
       "      <th>Number of Dependents</th>\n",
       "      <td>2250</td>\n",
       "    </tr>\n",
       "    <tr>\n",
       "      <th>City</th>\n",
       "      <td>0</td>\n",
       "    </tr>\n",
       "    <tr>\n",
       "      <th>State</th>\n",
       "      <td>0</td>\n",
       "    </tr>\n",
       "    <tr>\n",
       "      <th>Country</th>\n",
       "      <td>0</td>\n",
       "    </tr>\n",
       "    <tr>\n",
       "      <th>Previous Defaults</th>\n",
       "      <td>2250</td>\n",
       "    </tr>\n",
       "    <tr>\n",
       "      <th>Risk Rating</th>\n",
       "      <td>0</td>\n",
       "    </tr>\n",
       "  </tbody>\n",
       "</table>\n",
       "</div>"
      ],
      "text/plain": [
       "                         0\n",
       "Age                      0\n",
       "Gender                   0\n",
       "Education Level          0\n",
       "Marital Status           0\n",
       "Income                2250\n",
       "Credit Score          2250\n",
       "Loan Amount           2250\n",
       "Loan Purpose             0\n",
       "Employment Status        0\n",
       "Years at Current Job     0\n",
       "Payment History          0\n",
       "Debt-to-Income Ratio     0\n",
       "Assets Value          2250\n",
       "Number of Dependents  2250\n",
       "City                     0\n",
       "State                    0\n",
       "Country                  0\n",
       "Previous Defaults     2250\n",
       "Risk Rating              0"
      ]
     },
     "execution_count": 17,
     "metadata": {},
     "output_type": "execute_result"
    }
   ],
   "source": [
    "#identify missing values of the  columns\n",
    "pd.DataFrame(df.isnull().sum())"
   ]
  },
  {
   "cell_type": "markdown",
   "id": "c7a34759-cadc-4c4e-884f-c2d0ae0dc65c",
   "metadata": {},
   "source": [
    "## Checking the distribution of the  missisng values of the columns.\n"
   ]
  },
  {
   "cell_type": "code",
   "execution_count": 18,
   "id": "3f64ff2f-667b-474a-b25b-c9794a6b05ba",
   "metadata": {},
   "outputs": [
    {
     "data": {
      "image/png": "[encoded data removed]",
      "text/plain": [
       "<Figure size 640x480 with 1 Axes>"
      ]
     },
     "metadata": {},
     "output_type": "display_data"
    },
    {
     "data": {
      "image/png": "[encoded data removed]",
      "text/plain": [
       "<Figure size 640x480 with 1 Axes>"
      ]
     },
     "metadata": {},
     "output_type": "display_data"
    },
    {
     "data": {
      "image/png": "[encoded data removed]",
      "text/plain": [
       "<Figure size 640x480 with 1 Axes>"
      ]
     },
     "metadata": {},
     "output_type": "display_data"
    },
    {
     "data": {
      "image/png": "[encoded data removed]",
      "text/plain": [
       "<Figure size 640x480 with 1 Axes>"
      ]
     },
     "metadata": {},
     "output_type": "display_data"
    },
    {
     "data": {
      "image/png": "[encoded data removed]",
      "text/plain": [
       "<Figure size 640x480 with 1 Axes>"
      ]
     },
     "metadata": {},
     "output_type": "display_data"
    },
    {
     "data": {
      "image/png": "[encoded data removed]",
      "text/plain": [
       "<Figure size 640x480 with 1 Axes>"
      ]
     },
     "metadata": {},
     "output_type": "display_data"
    }
   ],
   "source": [
    "a = df[['Income', 'Credit Score', 'Loan Amount', 'Assets Value', 'Number of Dependents', 'Previous Defaults']]\n",
    "\n",
    "for col in a.columns:\n",
    "    sns.histplot(df[col], kde=True)\n",
    "    plt.title(f'Histogram of {col}')\n",
    "    plt.xlabel(col)\n",
    "    plt.ylabel('Frequency')\n",
    "    plt.show()\n",
    "    "
   ]
  },
  {
   "cell_type": "code",
   "execution_count": 22,
   "id": "5ba57718-aa09-45c0-ba38-07ce02ecc7ff",
   "metadata": {},
   "outputs": [],
   "source": [
    "#Filling Missing Values with Median\n",
    "for col in ['Income', 'Credit Score', 'Loan Amount', 'Assets Value', 'Number of Dependents', 'Previous Defaults']:\n",
    "    df[col].fillna(df[col].median(), inplace=True)\n"
   ]
  },
  {
   "cell_type": "code",
   "execution_count": 15,
   "id": "2fa9b0ad-86af-4593-88bf-930b364cc78a",
   "metadata": {},
   "outputs": [
    {
     "data": {
      "text/html": [
       "<div>\n",
       "<style scoped>\n",
       "    .dataframe tbody tr th:only-of-type {\n",
       "        vertical-align: middle;\n",
       "    }\n",
       "\n",
       "    .dataframe tbody tr th {\n",
       "        vertical-align: top;\n",
       "    }\n",
       "\n",
       "    .dataframe thead th {\n",
       "        text-align: right;\n",
       "    }\n",
       "</style>\n",
       "<table border=\"1\" class=\"dataframe\">\n",
       "  <thead>\n",
       "    <tr style=\"text-align: right;\">\n",
       "      <th></th>\n",
       "      <th>0</th>\n",
       "    </tr>\n",
       "  </thead>\n",
       "  <tbody>\n",
       "    <tr>\n",
       "      <th>Age</th>\n",
       "      <td>0</td>\n",
       "    </tr>\n",
       "    <tr>\n",
       "      <th>Gender</th>\n",
       "      <td>0</td>\n",
       "    </tr>\n",
       "    <tr>\n",
       "      <th>Education Level</th>\n",
       "      <td>0</td>\n",
       "    </tr>\n",
       "    <tr>\n",
       "      <th>Marital Status</th>\n",
       "      <td>0</td>\n",
       "    </tr>\n",
       "    <tr>\n",
       "      <th>Income</th>\n",
       "      <td>1916</td>\n",
       "    </tr>\n",
       "    <tr>\n",
       "      <th>Credit Score</th>\n",
       "      <td>0</td>\n",
       "    </tr>\n",
       "    <tr>\n",
       "      <th>Loan Amount</th>\n",
       "      <td>1886</td>\n",
       "    </tr>\n",
       "    <tr>\n",
       "      <th>Loan Purpose</th>\n",
       "      <td>0</td>\n",
       "    </tr>\n",
       "    <tr>\n",
       "      <th>Employment Status</th>\n",
       "      <td>0</td>\n",
       "    </tr>\n",
       "    <tr>\n",
       "      <th>Years at Current Job</th>\n",
       "      <td>0</td>\n",
       "    </tr>\n",
       "    <tr>\n",
       "      <th>Payment History</th>\n",
       "      <td>0</td>\n",
       "    </tr>\n",
       "    <tr>\n",
       "      <th>Debt-to-Income Ratio</th>\n",
       "      <td>0</td>\n",
       "    </tr>\n",
       "    <tr>\n",
       "      <th>Assets Value</th>\n",
       "      <td>1924</td>\n",
       "    </tr>\n",
       "    <tr>\n",
       "      <th>Number of Dependents</th>\n",
       "      <td>1904</td>\n",
       "    </tr>\n",
       "    <tr>\n",
       "      <th>City</th>\n",
       "      <td>0</td>\n",
       "    </tr>\n",
       "    <tr>\n",
       "      <th>State</th>\n",
       "      <td>0</td>\n",
       "    </tr>\n",
       "    <tr>\n",
       "      <th>Country</th>\n",
       "      <td>0</td>\n",
       "    </tr>\n",
       "    <tr>\n",
       "      <th>Previous Defaults</th>\n",
       "      <td>1901</td>\n",
       "    </tr>\n",
       "    <tr>\n",
       "      <th>Risk Rating</th>\n",
       "      <td>0</td>\n",
       "    </tr>\n",
       "    <tr>\n",
       "      <th>Age Group</th>\n",
       "      <td>0</td>\n",
       "    </tr>\n",
       "    <tr>\n",
       "      <th>Credit Score Category</th>\n",
       "      <td>0</td>\n",
       "    </tr>\n",
       "  </tbody>\n",
       "</table>\n",
       "</div>"
      ],
      "text/plain": [
       "                          0\n",
       "Age                       0\n",
       "Gender                    0\n",
       "Education Level           0\n",
       "Marital Status            0\n",
       "Income                 1916\n",
       "Credit Score              0\n",
       "Loan Amount            1886\n",
       "Loan Purpose              0\n",
       "Employment Status         0\n",
       "Years at Current Job      0\n",
       "Payment History           0\n",
       "Debt-to-Income Ratio      0\n",
       "Assets Value           1924\n",
       "Number of Dependents   1904\n",
       "City                      0\n",
       "State                     0\n",
       "Country                   0\n",
       "Previous Defaults      1901\n",
       "Risk Rating               0\n",
       "Age Group                 0\n",
       "Credit Score Category     0"
      ]
     },
     "execution_count": 15,
     "metadata": {},
     "output_type": "execute_result"
    }
   ],
   "source": [
    "pd.DataFrame(df.isnull().sum())"
   ]
  },
  {
   "cell_type": "markdown",
   "id": "d938c770-e445-4f46-b326-b9d834a9fe24",
   "metadata": {},
   "source": [
    "## Outlier Detecting"
   ]
  },
  {
   "cell_type": "code",
   "execution_count": 12,
   "id": "53bbd9ec-033b-4c56-a050-e886c6640312",
   "metadata": {},
   "outputs": [
    {
     "data": {
      "text/html": [
       "<div>\n",
       "<style scoped>\n",
       "    .dataframe tbody tr th:only-of-type {\n",
       "        vertical-align: middle;\n",
       "    }\n",
       "\n",
       "    .dataframe tbody tr th {\n",
       "        vertical-align: top;\n",
       "    }\n",
       "\n",
       "    .dataframe thead th {\n",
       "        text-align: right;\n",
       "    }\n",
       "</style>\n",
       "<table border=\"1\" class=\"dataframe\">\n",
       "  <thead>\n",
       "    <tr style=\"text-align: right;\">\n",
       "      <th></th>\n",
       "      <th>Age</th>\n",
       "      <th>Income</th>\n",
       "      <th>Credit Score</th>\n",
       "      <th>Loan Amount</th>\n",
       "      <th>Years at Current Job</th>\n",
       "      <th>Debt-to-Income Ratio</th>\n",
       "      <th>Assets Value</th>\n",
       "      <th>Number of Dependents</th>\n",
       "      <th>Previous Defaults</th>\n",
       "    </tr>\n",
       "  </thead>\n",
       "  <tbody>\n",
       "    <tr>\n",
       "      <th>0</th>\n",
       "      <td>49</td>\n",
       "      <td>72799.0</td>\n",
       "      <td>688.0</td>\n",
       "      <td>45713.0</td>\n",
       "      <td>19</td>\n",
       "      <td>0.154313</td>\n",
       "      <td>120228.0</td>\n",
       "      <td>0.0</td>\n",
       "      <td>2.0</td>\n",
       "    </tr>\n",
       "    <tr>\n",
       "      <th>1</th>\n",
       "      <td>57</td>\n",
       "      <td>NaN</td>\n",
       "      <td>690.0</td>\n",
       "      <td>33835.0</td>\n",
       "      <td>6</td>\n",
       "      <td>0.148920</td>\n",
       "      <td>55849.0</td>\n",
       "      <td>0.0</td>\n",
       "      <td>3.0</td>\n",
       "    </tr>\n",
       "    <tr>\n",
       "      <th>2</th>\n",
       "      <td>21</td>\n",
       "      <td>55687.0</td>\n",
       "      <td>600.0</td>\n",
       "      <td>36623.0</td>\n",
       "      <td>8</td>\n",
       "      <td>0.362398</td>\n",
       "      <td>180700.0</td>\n",
       "      <td>3.0</td>\n",
       "      <td>3.0</td>\n",
       "    </tr>\n",
       "    <tr>\n",
       "      <th>3</th>\n",
       "      <td>59</td>\n",
       "      <td>26508.0</td>\n",
       "      <td>622.0</td>\n",
       "      <td>26541.0</td>\n",
       "      <td>2</td>\n",
       "      <td>0.454964</td>\n",
       "      <td>157319.0</td>\n",
       "      <td>3.0</td>\n",
       "      <td>4.0</td>\n",
       "    </tr>\n",
       "    <tr>\n",
       "      <th>4</th>\n",
       "      <td>25</td>\n",
       "      <td>49427.0</td>\n",
       "      <td>766.0</td>\n",
       "      <td>36528.0</td>\n",
       "      <td>10</td>\n",
       "      <td>0.143242</td>\n",
       "      <td>287140.0</td>\n",
       "      <td>NaN</td>\n",
       "      <td>3.0</td>\n",
       "    </tr>\n",
       "    <tr>\n",
       "      <th>...</th>\n",
       "      <td>...</td>\n",
       "      <td>...</td>\n",
       "      <td>...</td>\n",
       "      <td>...</td>\n",
       "      <td>...</td>\n",
       "      <td>...</td>\n",
       "      <td>...</td>\n",
       "      <td>...</td>\n",
       "      <td>...</td>\n",
       "    </tr>\n",
       "    <tr>\n",
       "      <th>14995</th>\n",
       "      <td>23</td>\n",
       "      <td>48088.0</td>\n",
       "      <td>609.0</td>\n",
       "      <td>26187.0</td>\n",
       "      <td>2</td>\n",
       "      <td>0.317633</td>\n",
       "      <td>NaN</td>\n",
       "      <td>4.0</td>\n",
       "      <td>2.0</td>\n",
       "    </tr>\n",
       "    <tr>\n",
       "      <th>14996</th>\n",
       "      <td>56</td>\n",
       "      <td>107193.0</td>\n",
       "      <td>700.0</td>\n",
       "      <td>35111.0</td>\n",
       "      <td>10</td>\n",
       "      <td>0.155126</td>\n",
       "      <td>79102.0</td>\n",
       "      <td>NaN</td>\n",
       "      <td>0.0</td>\n",
       "    </tr>\n",
       "    <tr>\n",
       "      <th>14997</th>\n",
       "      <td>29</td>\n",
       "      <td>46250.0</td>\n",
       "      <td>642.0</td>\n",
       "      <td>44369.0</td>\n",
       "      <td>19</td>\n",
       "      <td>0.593999</td>\n",
       "      <td>196930.0</td>\n",
       "      <td>4.0</td>\n",
       "      <td>2.0</td>\n",
       "    </tr>\n",
       "    <tr>\n",
       "      <th>14998</th>\n",
       "      <td>53</td>\n",
       "      <td>40180.0</td>\n",
       "      <td>638.0</td>\n",
       "      <td>32752.0</td>\n",
       "      <td>12</td>\n",
       "      <td>0.478035</td>\n",
       "      <td>276060.0</td>\n",
       "      <td>NaN</td>\n",
       "      <td>0.0</td>\n",
       "    </tr>\n",
       "    <tr>\n",
       "      <th>14999</th>\n",
       "      <td>24</td>\n",
       "      <td>NaN</td>\n",
       "      <td>765.0</td>\n",
       "      <td>NaN</td>\n",
       "      <td>18</td>\n",
       "      <td>0.116083</td>\n",
       "      <td>71699.0</td>\n",
       "      <td>3.0</td>\n",
       "      <td>3.0</td>\n",
       "    </tr>\n",
       "  </tbody>\n",
       "</table>\n",
       "<p>12750 rows × 9 columns</p>\n",
       "</div>"
      ],
      "text/plain": [
       "       Age    Income  Credit Score  Loan Amount  Years at Current Job  \\\n",
       "0       49   72799.0         688.0      45713.0                    19   \n",
       "1       57       NaN         690.0      33835.0                     6   \n",
       "2       21   55687.0         600.0      36623.0                     8   \n",
       "3       59   26508.0         622.0      26541.0                     2   \n",
       "4       25   49427.0         766.0      36528.0                    10   \n",
       "...    ...       ...           ...          ...                   ...   \n",
       "14995   23   48088.0         609.0      26187.0                     2   \n",
       "14996   56  107193.0         700.0      35111.0                    10   \n",
       "14997   29   46250.0         642.0      44369.0                    19   \n",
       "14998   53   40180.0         638.0      32752.0                    12   \n",
       "14999   24       NaN         765.0          NaN                    18   \n",
       "\n",
       "       Debt-to-Income Ratio  Assets Value  Number of Dependents  \\\n",
       "0                  0.154313      120228.0                   0.0   \n",
       "1                  0.148920       55849.0                   0.0   \n",
       "2                  0.362398      180700.0                   3.0   \n",
       "3                  0.454964      157319.0                   3.0   \n",
       "4                  0.143242      287140.0                   NaN   \n",
       "...                     ...           ...                   ...   \n",
       "14995              0.317633           NaN                   4.0   \n",
       "14996              0.155126       79102.0                   NaN   \n",
       "14997              0.593999      196930.0                   4.0   \n",
       "14998              0.478035      276060.0                   NaN   \n",
       "14999              0.116083       71699.0                   3.0   \n",
       "\n",
       "       Previous Defaults  \n",
       "0                    2.0  \n",
       "1                    3.0  \n",
       "2                    3.0  \n",
       "3                    4.0  \n",
       "4                    3.0  \n",
       "...                  ...  \n",
       "14995                2.0  \n",
       "14996                0.0  \n",
       "14997                2.0  \n",
       "14998                0.0  \n",
       "14999                3.0  \n",
       "\n",
       "[12750 rows x 9 columns]"
      ]
     },
     "execution_count": 12,
     "metadata": {},
     "output_type": "execute_result"
    }
   ],
   "source": [
    "num_col=df.select_dtypes([\"number\"])\n",
    "num_col"
   ]
  },
  {
   "cell_type": "code",
   "execution_count": 14,
   "id": "629e1ede-cb15-47e6-ab23-389d163d5c3e",
   "metadata": {},
   "outputs": [
    {
     "data": {
      "image/png": "[encoded data removed]",
      "text/plain": [
       "<Figure size 640x480 with 1 Axes>"
      ]
     },
     "metadata": {},
     "output_type": "display_data"
    },
    {
     "data": {
      "image/png": "[encoded data removed]",
      "text/plain": [
       "<Figure size 640x480 with 1 Axes>"
      ]
     },
     "metadata": {},
     "output_type": "display_data"
    },
    {
     "data": {
      "image/png": "[encoded data removed]",
      "text/plain": [
       "<Figure size 640x480 with 1 Axes>"
      ]
     },
     "metadata": {},
     "output_type": "display_data"
    },
    {
     "data": {
      "image/png": "[encoded data removed]",
      "text/plain": [
       "<Figure size 640x480 with 1 Axes>"
      ]
     },
     "metadata": {},
     "output_type": "display_data"
    },
    {
     "data": {
      "image/png": "[encoded data removed]",
      "text/plain": [
       "<Figure size 640x480 with 1 Axes>"
      ]
     },
     "metadata": {},
     "output_type": "display_data"
    },
    {
     "data": {
      "image/png": "[encoded data removed]",
      "text/plain": [
       "<Figure size 640x480 with 1 Axes>"
      ]
     },
     "metadata": {},
     "output_type": "display_data"
    },
    {
     "data": {
      "image/png": "[encoded data removed]",
      "text/plain": [
       "<Figure size 640x480 with 1 Axes>"
      ]
     },
     "metadata": {},
     "output_type": "display_data"
    },
    {
     "data": {
      "image/png": "[encoded data removed]",
      "text/plain": [
       "<Figure size 640x480 with 1 Axes>"
      ]
     },
     "metadata": {},
     "output_type": "display_data"
    },
    {
     "data": {
      "image/png": "[encoded data removed]",
      "text/plain": [
       "<Figure size 640x480 with 1 Axes>"
      ]
     },
     "metadata": {},
     "output_type": "display_data"
    }
   ],
   "source": [
    "for i in num_col:\n",
    "    sns.boxplot(df[i])\n",
    "    plt.title(i)\n",
    "    plt.show()"
   ]
  },
  {
   "cell_type": "markdown",
   "id": "bf78dc74-ef6a-4964-98a8-1c585b516abf",
   "metadata": {},
   "source": [
    "## Feature Engineering"
   ]
  },
  {
   "cell_type": "code",
   "execution_count": 7,
   "id": "2edb963a-5d57-463b-9525-096d8b903535",
   "metadata": {},
   "outputs": [
    {
     "name": "stdout",
     "output_type": "stream",
     "text": [
      "   Age Age Group\n",
      "0   49     45–54\n",
      "1   57     55–64\n",
      "2   21     18–24\n",
      "3   59     55–64\n",
      "4   25     25–34\n"
     ]
    }
   ],
   "source": [
    "import pandas as pd\n",
    "bins = [18, 25, 35, 45, 55, 65, 75]\n",
    "labels = ['18–24', '25–34', '35–44', '45–54', '55–64', '65–74']\n",
    "\n",
    "# Create new 'Age Group' column using pd.cut()\n",
    "df['Age Group'] = pd.cut(df['Age'], bins=bins, labels=labels, right=False)\n",
    "print(df[['Age', 'Age Group']].head())\n",
    "\n"
   ]
  },
  {
   "cell_type": "code",
   "execution_count": 79,
   "id": "19699e1d-d27e-49b0-85b3-efe87ebfc110",
   "metadata": {},
   "outputs": [
    {
     "name": "stdout",
     "output_type": "stream",
     "text": [
      "Risk Rating          High           Low        Medium\n",
      "Age Group                                            \n",
      "18–24        26575.826667  27162.373717  27857.802761\n",
      "25–34        27114.830709  28099.927636  27617.401299\n",
      "35–44        26813.922764  27042.024804  27652.587766\n",
      "45–54        28734.392241  27181.233577  27389.951743\n",
      "55–64        29805.099631  27556.099185  27460.203390\n",
      "65–74        28501.956140  26767.985653  26231.057221\n"
     ]
    }
   ],
   "source": [
    "# Group by Age Group and Risk Rating, calculate average Loan Amount\n",
    "loan_amount_by_age_risk = df.groupby(['Age Group', 'Risk Rating'])['Loan Amount'].mean().unstack()\n",
    "print(loan_amount_by_age_risk)"
   ]
  },
  {
   "cell_type": "markdown",
   "id": "35806d5f-0560-48ed-b2c0-113dd10c8e4d",
   "metadata": {},
   "source": [
    "* High-risk individuals borrow more than low- or medium-risk people in most age groups.\n",
    "\n",
    "* People aged 55–64 take the highest average loan amounts, especially in the high-risk category.\n",
    "\n",
    "\n",
    "\n",
    "\n",
    "\n",
    "\n",
    "\n",
    "\n",
    "\n"
   ]
  },
  {
   "cell_type": "code",
   "execution_count": 8,
   "id": "ffaab3a3-f973-4a0d-94a5-a6cc1fb3fbfa",
   "metadata": {},
   "outputs": [
    {
     "name": "stdout",
     "output_type": "stream",
     "text": [
      "   Credit Score Credit Score Category\n",
      "0         688.0                  Fair\n",
      "1         690.0                  Fair\n",
      "2         600.0                  Poor\n",
      "3         622.0                  Poor\n",
      "4         766.0             Excellent\n"
     ]
    }
   ],
   "source": [
    "df['Credit Score'] = pd.to_numeric(df['Credit Score'], errors='coerce')\n",
    "df = df.dropna(subset=['Credit Score'])\n",
    "# Apply credit score categorization\n",
    "def credit_score_level(score):\n",
    "    if score >= 750:\n",
    "        return 'Excellent'\n",
    "    elif 700 <= score < 750:\n",
    "        return 'Good'\n",
    "    elif 650 <= score < 700:\n",
    "        return 'Fair'\n",
    "    else:\n",
    "        return 'Poor'\n",
    "df['Credit Score Category'] = df['Credit Score'].apply(credit_score_level)\n",
    "print(df[['Credit Score', 'Credit Score Category']].head())\n"
   ]
  },
  {
   "cell_type": "markdown",
   "id": "ffff7ace-4f52-497d-8c2a-cb7321511728",
   "metadata": {},
   "source": [
    "### Analysis"
   ]
  },
  {
   "cell_type": "markdown",
   "id": "eab46623-7972-4664-a953-deee2154b73b",
   "metadata": {},
   "source": [
    "### 1.How does employment status relate to risk rating?\n",
    "\n"
   ]
  },
  {
   "cell_type": "code",
   "execution_count": 26,
   "id": "4fe0b9a4-e24d-4a5e-89db-62496ee37e63",
   "metadata": {},
   "outputs": [
    {
     "data": {
      "text/plain": [
       "Employment Status  Risk Rating\n",
       "Employed           Low            2545\n",
       "                   Medium         1312\n",
       "                   High            452\n",
       "Self-employed      Low            2551\n",
       "                   Medium         1251\n",
       "                   High            441\n",
       "Unemployed         Low            2565\n",
       "                   Medium         1242\n",
       "                   High            391\n",
       "Name: count, dtype: int64"
      ]
     },
     "execution_count": 26,
     "metadata": {},
     "output_type": "execute_result"
    }
   ],
   "source": [
    "df.groupby('Employment Status')['Risk Rating'].value_counts()\n"
   ]
  },
  {
   "cell_type": "markdown",
   "id": "a3560ba4-2f65-4c61-a81a-1bec994dfbcb",
   "metadata": {},
   "source": [
    "* Most people, no matter their job status, fall into the Low Risk category.\n",
    "\n",
    "* Employed, self-employed, and unemployed groups all have a similar number of high-risk individuals.\n"
   ]
  },
  {
   "cell_type": "markdown",
   "id": "dbeed8c4-2b5a-409a-a54e-af5198db671d",
   "metadata": {},
   "source": [
    "### 2.What loan purposes are linked with higher risk?\n"
   ]
  },
  {
   "cell_type": "code",
   "execution_count": 42,
   "id": "0a6c77b3-c818-4100-8a2c-5094c4088e77",
   "metadata": {},
   "outputs": [
    {
     "data": {
      "text/html": [
       "<div>\n",
       "<style scoped>\n",
       "    .dataframe tbody tr th:only-of-type {\n",
       "        vertical-align: middle;\n",
       "    }\n",
       "\n",
       "    .dataframe tbody tr th {\n",
       "        vertical-align: top;\n",
       "    }\n",
       "\n",
       "    .dataframe thead th {\n",
       "        text-align: right;\n",
       "    }\n",
       "</style>\n",
       "<table border=\"1\" class=\"dataframe\">\n",
       "  <thead>\n",
       "    <tr style=\"text-align: right;\">\n",
       "      <th>Risk Rating</th>\n",
       "      <th>High</th>\n",
       "      <th>Low</th>\n",
       "      <th>Medium</th>\n",
       "    </tr>\n",
       "    <tr>\n",
       "      <th>Loan Purpose</th>\n",
       "      <th></th>\n",
       "      <th></th>\n",
       "      <th></th>\n",
       "    </tr>\n",
       "  </thead>\n",
       "  <tbody>\n",
       "    <tr>\n",
       "      <th>Auto</th>\n",
       "      <td>0.107114</td>\n",
       "      <td>0.591678</td>\n",
       "      <td>0.301208</td>\n",
       "    </tr>\n",
       "    <tr>\n",
       "      <th>Business</th>\n",
       "      <td>0.089620</td>\n",
       "      <td>0.605939</td>\n",
       "      <td>0.304441</td>\n",
       "    </tr>\n",
       "    <tr>\n",
       "      <th>Home</th>\n",
       "      <td>0.099044</td>\n",
       "      <td>0.598779</td>\n",
       "      <td>0.302177</td>\n",
       "    </tr>\n",
       "    <tr>\n",
       "      <th>Personal</th>\n",
       "      <td>0.104216</td>\n",
       "      <td>0.603553</td>\n",
       "      <td>0.292230</td>\n",
       "    </tr>\n",
       "  </tbody>\n",
       "</table>\n",
       "</div>"
      ],
      "text/plain": [
       "Risk Rating       High       Low    Medium\n",
       "Loan Purpose                              \n",
       "Auto          0.107114  0.591678  0.301208\n",
       "Business      0.089620  0.605939  0.304441\n",
       "Home          0.099044  0.598779  0.302177\n",
       "Personal      0.104216  0.603553  0.292230"
      ]
     },
     "execution_count": 42,
     "metadata": {},
     "output_type": "execute_result"
    }
   ],
   "source": [
    "pd.crosstab(df['Loan Purpose'], df['Risk Rating'], normalize='index')"
   ]
  },
  {
   "cell_type": "markdown",
   "id": "92ed7867-2d74-4e29-b82f-73a558c96bb2",
   "metadata": {},
   "source": [
    "* Applicants taking Auto and Personal loans show a slightly higher chance of being high-risk compared to those taking Business or Home loans.\n",
    "\n",
    "* This suggests that loan purpose has a small but noticeable effect on financial risk "
   ]
  },
  {
   "cell_type": "markdown",
   "id": "d63891bf-2748-4346-b97c-271bb79106e8",
   "metadata": {},
   "source": [
    "## 3. Which states have the most high-risk individuals?\n",
    "\n"
   ]
  },
  {
   "cell_type": "code",
   "execution_count": 48,
   "id": "2dab4d3b-d57f-45e7-8c50-d0e9753f376f",
   "metadata": {},
   "outputs": [
    {
     "data": {
      "text/plain": [
       "State\n",
       "AK    38\n",
       "PW    36\n",
       "NJ    35\n",
       "MD    34\n",
       "MO    34\n",
       "Name: count, dtype: int64"
      ]
     },
     "execution_count": 48,
     "metadata": {},
     "output_type": "execute_result"
    }
   ],
   "source": [
    "df[df['Risk Rating'] == 'High']['State'].value_counts().head(5)"
   ]
  },
  {
   "cell_type": "markdown",
   "id": "c6c13e29-e5de-45d8-baf0-1b5ace618baa",
   "metadata": {},
   "source": [
    "* Most high-risk people are from Alaska, Palau, New Jersey, Maryland, and Missouri.\n",
    "\n",
    "* Some states have more risky borrowers than others, maybe because of local money problems or rules.\n",
    "\n",
    "\n",
    "\n",
    "\n",
    "\n",
    "\n",
    "\n",
    "\n",
    "\n",
    "\n",
    "\n",
    "\n",
    "\n",
    "\n",
    "\n"
   ]
  },
  {
   "cell_type": "markdown",
   "id": "e00e06b6-ad26-43d7-98e9-bb8e7739f896",
   "metadata": {},
   "source": [
    "### 4.Do age groups show differences in risk?\n",
    "\n",
    "\n"
   ]
  },
  {
   "cell_type": "code",
   "execution_count": 5,
   "id": "88f829fe-31a9-4c65-8769-bda7d8ae7cc2",
   "metadata": {},
   "outputs": [
    {
     "data": {
      "text/html": [
       "<div>\n",
       "<style scoped>\n",
       "    .dataframe tbody tr th:only-of-type {\n",
       "        vertical-align: middle;\n",
       "    }\n",
       "\n",
       "    .dataframe tbody tr th {\n",
       "        vertical-align: top;\n",
       "    }\n",
       "\n",
       "    .dataframe thead th {\n",
       "        text-align: right;\n",
       "    }\n",
       "</style>\n",
       "<table border=\"1\" class=\"dataframe\">\n",
       "  <thead>\n",
       "    <tr style=\"text-align: right;\">\n",
       "      <th>Risk Rating</th>\n",
       "      <th>High</th>\n",
       "      <th>Low</th>\n",
       "      <th>Medium</th>\n",
       "    </tr>\n",
       "    <tr>\n",
       "      <th>Age Group</th>\n",
       "      <th></th>\n",
       "      <th></th>\n",
       "      <th></th>\n",
       "    </tr>\n",
       "  </thead>\n",
       "  <tbody>\n",
       "    <tr>\n",
       "      <th>18–25</th>\n",
       "      <td>9.50</td>\n",
       "      <td>59.94</td>\n",
       "      <td>30.56</td>\n",
       "    </tr>\n",
       "    <tr>\n",
       "      <th>26–35</th>\n",
       "      <td>10.33</td>\n",
       "      <td>58.63</td>\n",
       "      <td>31.05</td>\n",
       "    </tr>\n",
       "    <tr>\n",
       "      <th>36–45</th>\n",
       "      <td>9.90</td>\n",
       "      <td>60.41</td>\n",
       "      <td>29.69</td>\n",
       "    </tr>\n",
       "    <tr>\n",
       "      <th>46–55</th>\n",
       "      <td>9.66</td>\n",
       "      <td>60.44</td>\n",
       "      <td>29.91</td>\n",
       "    </tr>\n",
       "    <tr>\n",
       "      <th>56–65</th>\n",
       "      <td>10.67</td>\n",
       "      <td>60.79</td>\n",
       "      <td>28.55</td>\n",
       "    </tr>\n",
       "    <tr>\n",
       "      <th>66–75</th>\n",
       "      <td>9.58</td>\n",
       "      <td>59.62</td>\n",
       "      <td>30.80</td>\n",
       "    </tr>\n",
       "  </tbody>\n",
       "</table>\n",
       "</div>"
      ],
      "text/plain": [
       "Risk Rating   High    Low  Medium\n",
       "Age Group                        \n",
       "18–25         9.50  59.94   30.56\n",
       "26–35        10.33  58.63   31.05\n",
       "36–45         9.90  60.41   29.69\n",
       "46–55         9.66  60.44   29.91\n",
       "56–65        10.67  60.79   28.55\n",
       "66–75         9.58  59.62   30.80"
      ]
     },
     "execution_count": 5,
     "metadata": {},
     "output_type": "execute_result"
    }
   ],
   "source": [
    "# Define age groups\n",
    "bins = [18, 25, 35, 45, 55, 65, 75]\n",
    "labels = ['18–25', '26–35', '36–45', '46–55', '56–65', '66–75']\n",
    "df['Age Group'] = pd.cut(df['Age'], bins=bins, labels=labels, right=False)\n",
    "\n",
    "# Crosstab of age group vs. risk rating (normalized by age group)\n",
    "age_risk_ct = pd.crosstab(df['Age Group'], df['Risk Rating'], normalize='index') * 100\n",
    "age_risk_ct.round(2)\n"
   ]
  },
  {
   "cell_type": "markdown",
   "id": "79b476f6-5d3a-49de-940d-504e4ea8380e",
   "metadata": {},
   "source": [
    "* People aged 56–65 have the highest chance of high risk.\n",
    "This could be because they are close to retirement and may have more expenses.\n",
    "\n",
    "* Young adults (26–35) also have a bit more high risk.\n",
    "Maybe because they’re starting jobs, paying off loans, or earning less.\n",
    "\n",
    "\n",
    "\n",
    "\n",
    "\n"
   ]
  },
  {
   "cell_type": "markdown",
   "id": "bf6f0c39-a2a7-4d94-9286-18acc65a159a",
   "metadata": {},
   "source": [
    "## 5.Does job stability (years at current job) affect risk level?"
   ]
  },
  {
   "cell_type": "code",
   "execution_count": 65,
   "id": "af5f1620-790c-4246-a3b3-5385e87b5bd9",
   "metadata": {},
   "outputs": [
    {
     "data": {
      "text/html": [
       "<div>\n",
       "<style scoped>\n",
       "    .dataframe tbody tr th:only-of-type {\n",
       "        vertical-align: middle;\n",
       "    }\n",
       "\n",
       "    .dataframe tbody tr th {\n",
       "        vertical-align: top;\n",
       "    }\n",
       "\n",
       "    .dataframe thead th {\n",
       "        text-align: right;\n",
       "    }\n",
       "</style>\n",
       "<table border=\"1\" class=\"dataframe\">\n",
       "  <thead>\n",
       "    <tr style=\"text-align: right;\">\n",
       "      <th>Risk Rating</th>\n",
       "      <th>High</th>\n",
       "      <th>Low</th>\n",
       "      <th>Medium</th>\n",
       "    </tr>\n",
       "    <tr>\n",
       "      <th>Years at Current Job</th>\n",
       "      <th></th>\n",
       "      <th></th>\n",
       "      <th></th>\n",
       "    </tr>\n",
       "  </thead>\n",
       "  <tbody>\n",
       "    <tr>\n",
       "      <th>0</th>\n",
       "      <td>78</td>\n",
       "      <td>432</td>\n",
       "      <td>217</td>\n",
       "    </tr>\n",
       "    <tr>\n",
       "      <th>1</th>\n",
       "      <td>74</td>\n",
       "      <td>472</td>\n",
       "      <td>222</td>\n",
       "    </tr>\n",
       "    <tr>\n",
       "      <th>2</th>\n",
       "      <td>74</td>\n",
       "      <td>456</td>\n",
       "      <td>230</td>\n",
       "    </tr>\n",
       "    <tr>\n",
       "      <th>3</th>\n",
       "      <td>85</td>\n",
       "      <td>450</td>\n",
       "      <td>230</td>\n",
       "    </tr>\n",
       "    <tr>\n",
       "      <th>4</th>\n",
       "      <td>70</td>\n",
       "      <td>477</td>\n",
       "      <td>215</td>\n",
       "    </tr>\n",
       "    <tr>\n",
       "      <th>5</th>\n",
       "      <td>77</td>\n",
       "      <td>461</td>\n",
       "      <td>238</td>\n",
       "    </tr>\n",
       "    <tr>\n",
       "      <th>6</th>\n",
       "      <td>80</td>\n",
       "      <td>444</td>\n",
       "      <td>230</td>\n",
       "    </tr>\n",
       "    <tr>\n",
       "      <th>7</th>\n",
       "      <td>63</td>\n",
       "      <td>465</td>\n",
       "      <td>196</td>\n",
       "    </tr>\n",
       "    <tr>\n",
       "      <th>8</th>\n",
       "      <td>64</td>\n",
       "      <td>469</td>\n",
       "      <td>220</td>\n",
       "    </tr>\n",
       "    <tr>\n",
       "      <th>9</th>\n",
       "      <td>71</td>\n",
       "      <td>449</td>\n",
       "      <td>223</td>\n",
       "    </tr>\n",
       "    <tr>\n",
       "      <th>10</th>\n",
       "      <td>61</td>\n",
       "      <td>450</td>\n",
       "      <td>232</td>\n",
       "    </tr>\n",
       "    <tr>\n",
       "      <th>11</th>\n",
       "      <td>80</td>\n",
       "      <td>424</td>\n",
       "      <td>237</td>\n",
       "    </tr>\n",
       "    <tr>\n",
       "      <th>12</th>\n",
       "      <td>68</td>\n",
       "      <td>475</td>\n",
       "      <td>229</td>\n",
       "    </tr>\n",
       "    <tr>\n",
       "      <th>13</th>\n",
       "      <td>75</td>\n",
       "      <td>442</td>\n",
       "      <td>228</td>\n",
       "    </tr>\n",
       "    <tr>\n",
       "      <th>14</th>\n",
       "      <td>81</td>\n",
       "      <td>431</td>\n",
       "      <td>195</td>\n",
       "    </tr>\n",
       "    <tr>\n",
       "      <th>15</th>\n",
       "      <td>75</td>\n",
       "      <td>431</td>\n",
       "      <td>238</td>\n",
       "    </tr>\n",
       "    <tr>\n",
       "      <th>16</th>\n",
       "      <td>70</td>\n",
       "      <td>452</td>\n",
       "      <td>233</td>\n",
       "    </tr>\n",
       "    <tr>\n",
       "      <th>17</th>\n",
       "      <td>76</td>\n",
       "      <td>420</td>\n",
       "      <td>257</td>\n",
       "    </tr>\n",
       "    <tr>\n",
       "      <th>18</th>\n",
       "      <td>98</td>\n",
       "      <td>467</td>\n",
       "      <td>226</td>\n",
       "    </tr>\n",
       "    <tr>\n",
       "      <th>19</th>\n",
       "      <td>80</td>\n",
       "      <td>433</td>\n",
       "      <td>204</td>\n",
       "    </tr>\n",
       "  </tbody>\n",
       "</table>\n",
       "</div>"
      ],
      "text/plain": [
       "Risk Rating           High  Low  Medium\n",
       "Years at Current Job                   \n",
       "0                       78  432     217\n",
       "1                       74  472     222\n",
       "2                       74  456     230\n",
       "3                       85  450     230\n",
       "4                       70  477     215\n",
       "5                       77  461     238\n",
       "6                       80  444     230\n",
       "7                       63  465     196\n",
       "8                       64  469     220\n",
       "9                       71  449     223\n",
       "10                      61  450     232\n",
       "11                      80  424     237\n",
       "12                      68  475     229\n",
       "13                      75  442     228\n",
       "14                      81  431     195\n",
       "15                      75  431     238\n",
       "16                      70  452     233\n",
       "17                      76  420     257\n",
       "18                      98  467     226\n",
       "19                      80  433     204"
      ]
     },
     "execution_count": 65,
     "metadata": {},
     "output_type": "execute_result"
    }
   ],
   "source": [
    "job_risk_ct = pd.crosstab(df['Years at Current Job'], df['Risk Rating'])\n",
    "job_risk_ct"
   ]
  },
  {
   "cell_type": "markdown",
   "id": "8fa899f8-6c42-452f-83da-16b5ce3c5d83",
   "metadata": {},
   "source": [
    "* People with fewer years at their job (like 0–3 years) are more likely to be high-risk.\n",
    "* More job stability (more years at the same job) usually means lower risk.\n",
    "* This means that job stability reduces financial risk.\n",
    "\n"
   ]
  },
  {
   "cell_type": "markdown",
   "id": "43cece58-04c8-4aea-8eaf-c8535bc95488",
   "metadata": {},
   "source": [
    "## 6.Relationship Between Payment History and Risk Rating"
   ]
  },
  {
   "cell_type": "code",
   "execution_count": 20,
   "id": "b31aecea-be72-4350-9f1d-900a6edd63a0",
   "metadata": {},
   "outputs": [
    {
     "name": "stdout",
     "output_type": "stream",
     "text": [
      "Risk Rating           High        Low     Medium\n",
      "Payment History                                 \n",
      "Excellent         9.488140  61.548065  28.963795\n",
      "Fair             10.194329  59.700542  30.105129\n",
      "Good             10.144482  59.145404  30.710114\n",
      "Poor             10.462904  59.955612  29.581484\n"
     ]
    }
   ],
   "source": [
    "\n",
    "payment_vs_risk_normalized = pd.crosstab(df['Payment History'], df['Risk Rating'], normalize='index') * 100\n",
    "print(payment_vs_risk_normalized)\n"
   ]
  },
  {
   "cell_type": "markdown",
   "id": "bd3bdcfd-6b61-41da-a0e4-1314afed863e",
   "metadata": {},
   "source": [
    "* People with better payment history (like Excellent or Good) are more likely to be Low Risk.\n",
    "* But the number of High Risk cases is similar across all payment types, so payment history alone doesn't decide risk — other factors also matter(like     income, credit score, or loan amount — may also play an important role.)"
   ]
  },
  {
   "cell_type": "markdown",
   "id": "7cc9a7c6-211a-4590-9d02-e776c8785a12",
   "metadata": {},
   "source": [
    "## 7.Do people with poor credit scores tend to take smaller or larger loans?"
   ]
  },
  {
   "cell_type": "code",
   "execution_count": 52,
   "id": "4a176bd3-a213-4380-bdcd-a49f56a0fdc7",
   "metadata": {
    "scrolled": true
   },
   "outputs": [
    {
     "data": {
      "text/plain": [
       "Credit Score\n",
       "(300, 600]    31456.342857\n",
       "(600, 700]    27630.137104\n",
       "(700, 850]    27267.343459\n",
       "Name: Loan Amount, dtype: float64"
      ]
     },
     "execution_count": 52,
     "metadata": {},
     "output_type": "execute_result"
    }
   ],
   "source": [
    "\n",
    "df.groupby(pd.cut(df['Credit Score'], bins=[300, 600, 700, 850]))['Loan Amount'].mean()"
   ]
  },
  {
   "cell_type": "markdown",
   "id": "60b3c6bd-6629-4af2-b0f2-4f739d9b8797",
   "metadata": {},
   "source": [
    "* People with low credit scores (300–600) actually take the largest loans.\n",
    "\n",
    "* People with poor credit scores (300–600) take larger loans on average.\n",
    "\n",
    "* Better credit scores (above 600) are linked with smaller loan amounts.\n",
    "\n"
   ]
  },
  {
   "cell_type": "markdown",
   "id": "bb18163b-fdac-40d1-b967-255f6b8a87d9",
   "metadata": {},
   "source": [
    "## 8.Which combinations of loan purpose and employment status are riskiest?"
   ]
  },
  {
   "cell_type": "code",
   "execution_count": 53,
   "id": "890e2a28-c0ce-4269-b659-5b73ab05b415",
   "metadata": {
    "scrolled": true
   },
   "outputs": [
    {
     "data": {
      "text/html": [
       "<div>\n",
       "<style scoped>\n",
       "    .dataframe tbody tr th:only-of-type {\n",
       "        vertical-align: middle;\n",
       "    }\n",
       "\n",
       "    .dataframe tbody tr th {\n",
       "        vertical-align: top;\n",
       "    }\n",
       "\n",
       "    .dataframe thead th {\n",
       "        text-align: right;\n",
       "    }\n",
       "</style>\n",
       "<table border=\"1\" class=\"dataframe\">\n",
       "  <thead>\n",
       "    <tr style=\"text-align: right;\">\n",
       "      <th></th>\n",
       "      <th>Risk Rating</th>\n",
       "      <th>High</th>\n",
       "      <th>Low</th>\n",
       "      <th>Medium</th>\n",
       "    </tr>\n",
       "    <tr>\n",
       "      <th>Loan Purpose</th>\n",
       "      <th>Employment Status</th>\n",
       "      <th></th>\n",
       "      <th></th>\n",
       "      <th></th>\n",
       "    </tr>\n",
       "  </thead>\n",
       "  <tbody>\n",
       "    <tr>\n",
       "      <th rowspan=\"3\" valign=\"top\">Auto</th>\n",
       "      <th>Employed</th>\n",
       "      <td>10.753532</td>\n",
       "      <td>59.026688</td>\n",
       "      <td>30.219780</td>\n",
       "    </tr>\n",
       "    <tr>\n",
       "      <th>Self-employed</th>\n",
       "      <td>11.201299</td>\n",
       "      <td>60.146104</td>\n",
       "      <td>28.652597</td>\n",
       "    </tr>\n",
       "    <tr>\n",
       "      <th>Unemployed</th>\n",
       "      <td>10.172272</td>\n",
       "      <td>58.326497</td>\n",
       "      <td>31.501231</td>\n",
       "    </tr>\n",
       "    <tr>\n",
       "      <th rowspan=\"3\" valign=\"top\">Business</th>\n",
       "      <th>Employed</th>\n",
       "      <td>9.516257</td>\n",
       "      <td>59.635210</td>\n",
       "      <td>30.848533</td>\n",
       "    </tr>\n",
       "    <tr>\n",
       "      <th>Self-employed</th>\n",
       "      <td>9.758065</td>\n",
       "      <td>60.080645</td>\n",
       "      <td>30.161290</td>\n",
       "    </tr>\n",
       "    <tr>\n",
       "      <th>Unemployed</th>\n",
       "      <td>7.599030</td>\n",
       "      <td>62.085691</td>\n",
       "      <td>30.315279</td>\n",
       "    </tr>\n",
       "    <tr>\n",
       "      <th rowspan=\"3\" valign=\"top\">Home</th>\n",
       "      <th>Employed</th>\n",
       "      <td>10.353130</td>\n",
       "      <td>58.105939</td>\n",
       "      <td>31.540931</td>\n",
       "    </tr>\n",
       "    <tr>\n",
       "      <th>Self-employed</th>\n",
       "      <td>9.321341</td>\n",
       "      <td>61.161079</td>\n",
       "      <td>29.517580</td>\n",
       "    </tr>\n",
       "    <tr>\n",
       "      <th>Unemployed</th>\n",
       "      <td>10.023130</td>\n",
       "      <td>60.370085</td>\n",
       "      <td>29.606785</td>\n",
       "    </tr>\n",
       "    <tr>\n",
       "      <th rowspan=\"3\" valign=\"top\">Personal</th>\n",
       "      <th>Employed</th>\n",
       "      <td>10.522088</td>\n",
       "      <td>59.116466</td>\n",
       "      <td>30.361446</td>\n",
       "    </tr>\n",
       "    <tr>\n",
       "      <th>Self-employed</th>\n",
       "      <td>10.570988</td>\n",
       "      <td>60.648148</td>\n",
       "      <td>28.780864</td>\n",
       "    </tr>\n",
       "    <tr>\n",
       "      <th>Unemployed</th>\n",
       "      <td>10.162602</td>\n",
       "      <td>61.300813</td>\n",
       "      <td>28.536585</td>\n",
       "    </tr>\n",
       "  </tbody>\n",
       "</table>\n",
       "</div>"
      ],
      "text/plain": [
       "Risk Rating                          High        Low     Medium\n",
       "Loan Purpose Employment Status                                 \n",
       "Auto         Employed           10.753532  59.026688  30.219780\n",
       "             Self-employed      11.201299  60.146104  28.652597\n",
       "             Unemployed         10.172272  58.326497  31.501231\n",
       "Business     Employed            9.516257  59.635210  30.848533\n",
       "             Self-employed       9.758065  60.080645  30.161290\n",
       "             Unemployed          7.599030  62.085691  30.315279\n",
       "Home         Employed           10.353130  58.105939  31.540931\n",
       "             Self-employed       9.321341  61.161079  29.517580\n",
       "             Unemployed         10.023130  60.370085  29.606785\n",
       "Personal     Employed           10.522088  59.116466  30.361446\n",
       "             Self-employed      10.570988  60.648148  28.780864\n",
       "             Unemployed         10.162602  61.300813  28.536585"
      ]
     },
     "execution_count": 53,
     "metadata": {},
     "output_type": "execute_result"
    }
   ],
   "source": [
    "pd.crosstab([df['Loan Purpose'], df['Employment Status']], df['Risk Rating'], normalize='index') * 100"
   ]
  },
  {
   "cell_type": "markdown",
   "id": "0b731d13-8228-4f29-b1b2-f62ed2406228",
   "metadata": {},
   "source": [
    "* Auto loans by self-employed people are the riskiest, with the highest high-risk percentage.\n",
    "Highest high-risk %: Self-employed Auto loans (11.2%)\n",
    "* Business loans by unemployed people are the safest, with the lowest high-risk percentage.\n",
    "Lowest high-risk %: Unemployed Business loans (7.6%).\n",
    "* Risk levels change based on both job type and loan purpose.\n",
    "\n",
    "\n",
    "\n",
    "\n",
    "\n",
    "\n",
    "\n",
    "\n",
    "\n",
    "\n",
    "    \n",
    "\n"
   ]
  },
  {
   "cell_type": "markdown",
   "id": "b9bd7a5a-56db-42eb-80db-c84525a8e6c4",
   "metadata": {},
   "source": [
    "## 9.Average Loan Amount by Loan Purpose and Risk Rating\n"
   ]
  },
  {
   "cell_type": "code",
   "execution_count": 54,
   "id": "be079bec-bc6b-487a-b565-db0c5aca4fdc",
   "metadata": {},
   "outputs": [
    {
     "data": {
      "text/html": [
       "<div>\n",
       "<style scoped>\n",
       "    .dataframe tbody tr th:only-of-type {\n",
       "        vertical-align: middle;\n",
       "    }\n",
       "\n",
       "    .dataframe tbody tr th {\n",
       "        vertical-align: top;\n",
       "    }\n",
       "\n",
       "    .dataframe thead th {\n",
       "        text-align: right;\n",
       "    }\n",
       "</style>\n",
       "<table border=\"1\" class=\"dataframe\">\n",
       "  <thead>\n",
       "    <tr style=\"text-align: right;\">\n",
       "      <th>Risk Rating</th>\n",
       "      <th>High</th>\n",
       "      <th>Low</th>\n",
       "      <th>Medium</th>\n",
       "    </tr>\n",
       "    <tr>\n",
       "      <th>Loan Purpose</th>\n",
       "      <th></th>\n",
       "      <th></th>\n",
       "      <th></th>\n",
       "    </tr>\n",
       "  </thead>\n",
       "  <tbody>\n",
       "    <tr>\n",
       "      <th>Auto</th>\n",
       "      <td>28086.388724</td>\n",
       "      <td>27782.394215</td>\n",
       "      <td>27867.724029</td>\n",
       "    </tr>\n",
       "    <tr>\n",
       "      <th>Business</th>\n",
       "      <td>27450.859779</td>\n",
       "      <td>26949.739426</td>\n",
       "      <td>27318.184346</td>\n",
       "    </tr>\n",
       "    <tr>\n",
       "      <th>Home</th>\n",
       "      <td>28094.000000</td>\n",
       "      <td>27371.067779</td>\n",
       "      <td>27220.274848</td>\n",
       "    </tr>\n",
       "    <tr>\n",
       "      <th>Personal</th>\n",
       "      <td>28226.658683</td>\n",
       "      <td>27347.813244</td>\n",
       "      <td>27406.902128</td>\n",
       "    </tr>\n",
       "  </tbody>\n",
       "</table>\n",
       "</div>"
      ],
      "text/plain": [
       "Risk Rating           High           Low        Medium\n",
       "Loan Purpose                                          \n",
       "Auto          28086.388724  27782.394215  27867.724029\n",
       "Business      27450.859779  26949.739426  27318.184346\n",
       "Home          28094.000000  27371.067779  27220.274848\n",
       "Personal      28226.658683  27347.813244  27406.902128"
      ]
     },
     "execution_count": 54,
     "metadata": {},
     "output_type": "execute_result"
    }
   ],
   "source": [
    "df.groupby(['Loan Purpose', 'Risk Rating'])['Loan Amount'].mean().unstack()"
   ]
  },
  {
   "cell_type": "markdown",
   "id": "b745ad7a-6cac-4fe2-9ff2-236150967fef",
   "metadata": {},
   "source": [
    "* Personal loans have the highest average loan amount in the high-risk group.\n",
    "\n",
    "* Home and Auto loans also show slightly higher loan amounts for high-risk individuals.\n",
    "\n",
    "* Low-risk borrowers generally take smaller loans than high-risk ones, across all loan purposes.\n",
    "\n",
    "\n",
    "\n",
    "\n",
    "\n",
    "\n",
    "\n",
    "\n",
    "\n"
   ]
  },
  {
   "cell_type": "markdown",
   "id": "e459d72d-9f8b-419a-a158-ff09e810534c",
   "metadata": {},
   "source": [
    "## 10. Do number of dependents influence high-risk levels?"
   ]
  },
  {
   "cell_type": "code",
   "execution_count": 58,
   "id": "dda64abc-161b-4acb-b507-8ec39c949813",
   "metadata": {},
   "outputs": [
    {
     "data": {
      "text/plain": [
       "Number of Dependents\n",
       "0.0    246\n",
       "1.0    276\n",
       "2.0    240\n",
       "3.0    247\n",
       "4.0    260\n",
       "Name: count, dtype: int64"
      ]
     },
     "execution_count": 58,
     "metadata": {},
     "output_type": "execute_result"
    }
   ],
   "source": [
    "df[df['Risk Rating'] == 'High']['Number of Dependents'].value_counts().sort_index()\n"
   ]
  },
  {
   "cell_type": "markdown",
   "id": "28fec777-0cf4-4d5e-b5db-d0fe05a6f6b4",
   "metadata": {},
   "source": [
    "* People with 0 to 4 dependents all show similar high-risk counts.\n",
    "\n",
    "* This means having more dependents doesn't strongly increase financial risk.\n",
    "\n"
   ]
  },
  {
   "cell_type": "markdown",
   "id": "31512e8f-1aff-4158-a939-8ddff204528c",
   "metadata": {},
   "source": [
    "## Visualization"
   ]
  },
  {
   "cell_type": "markdown",
   "id": "6c25e4a8-1422-480d-a42b-e9db047c2cf4",
   "metadata": {},
   "source": [
    "## How Job Tenure Influences Applicant Risk Rating?"
   ]
  },
  {
   "cell_type": "code",
   "execution_count": 30,
   "id": "f54ceebc-0f29-40dc-8ad7-192566798a4d",
   "metadata": {},
   "outputs": [
    {
     "data": {
      "image/png": "[encoded data removed]",
      "text/plain": [
       "<Figure size 700x500 with 1 Axes>"
      ]
     },
     "metadata": {},
     "output_type": "display_data"
    }
   ],
   "source": [
    "job_risk_crosstab = pd.crosstab(df['Years at Current Job'], df['Risk Rating'])\n",
    "job_risk_crosstab.plot(kind='bar', stacked=True, figsize=(7, 5), colormap='viridis')\n",
    "plt.title('Risk Rating by Years at Current Job')\n",
    "plt.xlabel('Years at Current Job')\n",
    "plt.ylabel('Number of Applicants')\n",
    "plt.legend(title='Risk Rating')\n",
    "plt.tight_layout()\n",
    "plt.show()\n"
   ]
  },
  {
   "cell_type": "markdown",
   "id": "5bec264c-e88a-4e12-aae7-e73c47357c6f",
   "metadata": {},
   "source": [
    "\n",
    "\n",
    "\n",
    "* Applicants who have been at their current job longer (10+ years) tend to have a higher proportion of low-risk ratin\n",
    "* Those with shorter job tenure (0–3 years) show more medium- and high-risk ratings.\n",
    "* There's a visible trend: as years at the current job increase, risk decreases.\n",
    "* Job stability is a strong indicator of lower financial risk.\n",
    "* it help lenders assess loan risk based on job stablity.\n",
    "\n",
    "\n",
    "\n",
    "\n",
    "\n"
   ]
  },
  {
   "cell_type": "markdown",
   "id": "25050c56-6a20-432c-8855-1db10913a97c",
   "metadata": {},
   "source": [
    "## Loan Amount by Risk Rating and Purpose"
   ]
  },
  {
   "cell_type": "code",
   "execution_count": 35,
   "id": "5f07d537-6066-4e21-91cd-ad6cf5f4bcc6",
   "metadata": {},
   "outputs": [
    {
     "data": {
      "application/vnd.plotly.v1+json": {
       "config": {
        "plotlyServerURL": "https://plot.ly"
       },
       "data": [
        {
         "branchvalues": "total",
         "domain": {
          "x": [
           0,
           1
          ],
          "y": [
           0,
           1
          ]
         },
         "hovertemplate": "labels=%{label}<br>Loan Amount=%{value}<br>parent=%{parent}<br>id=%{id}<extra></extra>",
         "ids": [
          "High/Auto",
          "Low/Auto",
          "Medium/Auto",
          "High/Business",
          "Low/Business",
          "Medium/Business",
          "High/Home",
          "Low/Home",
          "Medium/Home",
          "High/Personal",
          "Low/Personal",
          "Medium/Personal",
          "High",
          "Low",
          "Medium"
         ],
         "labels": [
          "Auto",
          "Auto",
          "Auto",
          "Business",
          "Business",
          "Business",
          "Home",
          "Home",
          "Home",
          "Personal",
          "Personal",
          "Personal",
          "High",
          "Low",
          "Medium"
         ],
         "name": "",
         "parents": [
          "High",
          "Low",
          "Medium",
          "High",
          "Low",
          "Medium",
          "High",
          "Low",
          "Medium",
          "High",
          "Low",
          "Medium",
          "",
          "",
          ""
         ],
         "type": "treemap",
         "values": [
          8343018,
          44714351,
          22443589,
          6618258,
          43413578,
          22981667,
          7590564,
          45120028,
          22193304,
          8373223,
          44538379,
          22031017,
          30925063,
          177786336,
          89649577
         ]
        }
       ],
       "layout": {
        "autosize": true,
        "legend": {
         "tracegroupgap": 0
        },
        "margin": {
         "t": 60
        },
        "template": {
         "data": {
          "bar": [
           {
            "error_x": {
             "color": "#2a3f5f"
            },
            "error_y": {
             "color": "#2a3f5f"
            },
            "marker": {
             "line": {
              "color": "#E5ECF6",
              "width": 0.5
             },
             "pattern": {
              "fillmode": "overlay",
              "size": 10,
              "solidity": 0.2
             }
            },
            "type": "bar"
           }
          ],
          "barpolar": [
           {
            "marker": {
             "line": {
              "color": "#E5ECF6",
              "width": 0.5
             },
             "pattern": {
              "fillmode": "overlay",
              "size": 10,
              "solidity": 0.2
             }
            },
            "type": "barpolar"
           }
          ],
          "carpet": [
           {
            "aaxis": {
             "endlinecolor": "#2a3f5f",
             "gridcolor": "white",
             "linecolor": "white",
             "minorgridcolor": "white",
             "startlinecolor": "#2a3f5f"
            },
            "baxis": {
             "endlinecolor": "#2a3f5f",
             "gridcolor": "white",
             "linecolor": "white",
             "minorgridcolor": "white",
             "startlinecolor": "#2a3f5f"
            },
            "type": "carpet"
           }
          ],
          "choropleth": [
           {
            "colorbar": {
             "outlinewidth": 0,
             "ticks": ""
            },
            "type": "choropleth"
           }
          ],
          "contour": [
           {
            "colorbar": {
             "outlinewidth": 0,
             "ticks": ""
            },
            "colorscale": [
             [
              0,
              "#0d0887"
             ],
             [
              0.1111111111111111,
              "#46039f"
             ],
             [
              0.2222222222222222,
              "#7201a8"
             ],
             [
              0.3333333333333333,
              "#9c179e"
             ],
             [
              0.4444444444444444,
              "#bd3786"
             ],
             [
              0.5555555555555556,
              "#d8576b"
             ],
             [
              0.6666666666666666,
              "#ed7953"
             ],
             [
              0.7777777777777778,
              "#fb9f3a"
             ],
             [
              0.8888888888888888,
              "#fdca26"
             ],
             [
              1,
              "#f0f921"
             ]
            ],
            "type": "contour"
           }
          ],
          "contourcarpet": [
           {
            "colorbar": {
             "outlinewidth": 0,
             "ticks": ""
            },
            "type": "contourcarpet"
           }
          ],
          "heatmap": [
           {
            "colorbar": {
             "outlinewidth": 0,
             "ticks": ""
            },
            "colorscale": [
             [
              0,
              "#0d0887"
             ],
             [
              0.1111111111111111,
              "#46039f"
             ],
             [
              0.2222222222222222,
              "#7201a8"
             ],
             [
              0.3333333333333333,
              "#9c179e"
             ],
             [
              0.4444444444444444,
              "#bd3786"
             ],
             [
              0.5555555555555556,
              "#d8576b"
             ],
             [
              0.6666666666666666,
              "#ed7953"
             ],
             [
              0.7777777777777778,
              "#fb9f3a"
             ],
             [
              0.8888888888888888,
              "#fdca26"
             ],
             [
              1,
              "#f0f921"
             ]
            ],
            "type": "heatmap"
           }
          ],
          "heatmapgl": [
           {
            "colorbar": {
             "outlinewidth": 0,
             "ticks": ""
            },
            "colorscale": [
             [
              0,
              "#0d0887"
             ],
             [
              0.1111111111111111,
              "#46039f"
             ],
             [
              0.2222222222222222,
              "#7201a8"
             ],
             [
              0.3333333333333333,
              "#9c179e"
             ],
             [
              0.4444444444444444,
              "#bd3786"
             ],
             [
              0.5555555555555556,
              "#d8576b"
             ],
             [
              0.6666666666666666,
              "#ed7953"
             ],
             [
              0.7777777777777778,
              "#fb9f3a"
             ],
             [
              0.8888888888888888,
              "#fdca26"
             ],
             [
              1,
              "#f0f921"
             ]
            ],
            "type": "heatmapgl"
           }
          ],
          "histogram": [
           {
            "marker": {
             "pattern": {
              "fillmode": "overlay",
              "size": 10,
              "solidity": 0.2
             }
            },
            "type": "histogram"
           }
          ],
          "histogram2d": [
           {
            "colorbar": {
             "outlinewidth": 0,
             "ticks": ""
            },
            "colorscale": [
             [
              0,
              "#0d0887"
             ],
             [
              0.1111111111111111,
              "#46039f"
             ],
             [
              0.2222222222222222,
              "#7201a8"
             ],
             [
              0.3333333333333333,
              "#9c179e"
             ],
             [
              0.4444444444444444,
              "#bd3786"
             ],
             [
              0.5555555555555556,
              "#d8576b"
             ],
             [
              0.6666666666666666,
              "#ed7953"
             ],
             [
              0.7777777777777778,
              "#fb9f3a"
             ],
             [
              0.8888888888888888,
              "#fdca26"
             ],
             [
              1,
              "#f0f921"
             ]
            ],
            "type": "histogram2d"
           }
          ],
          "histogram2dcontour": [
           {
            "colorbar": {
             "outlinewidth": 0,
             "ticks": ""
            },
            "colorscale": [
             [
              0,
              "#0d0887"
             ],
             [
              0.1111111111111111,
              "#46039f"
             ],
             [
              0.2222222222222222,
              "#7201a8"
             ],
             [
              0.3333333333333333,
              "#9c179e"
             ],
             [
              0.4444444444444444,
              "#bd3786"
             ],
             [
              0.5555555555555556,
              "#d8576b"
             ],
             [
              0.6666666666666666,
              "#ed7953"
             ],
             [
              0.7777777777777778,
              "#fb9f3a"
             ],
             [
              0.8888888888888888,
              "#fdca26"
             ],
             [
              1,
              "#f0f921"
             ]
            ],
            "type": "histogram2dcontour"
           }
          ],
          "mesh3d": [
           {
            "colorbar": {
             "outlinewidth": 0,
             "ticks": ""
            },
            "type": "mesh3d"
           }
          ],
          "parcoords": [
           {
            "line": {
             "colorbar": {
              "outlinewidth": 0,
              "ticks": ""
             }
            },
            "type": "parcoords"
           }
          ],
          "pie": [
           {
            "automargin": true,
            "type": "pie"
           }
          ],
          "scatter": [
           {
            "fillpattern": {
             "fillmode": "overlay",
             "size": 10,
             "solidity": 0.2
            },
            "type": "scatter"
           }
          ],
          "scatter3d": [
           {
            "line": {
             "colorbar": {
              "outlinewidth": 0,
              "ticks": ""
             }
            },
            "marker": {
             "colorbar": {
              "outlinewidth": 0,
              "ticks": ""
             }
            },
            "type": "scatter3d"
           }
          ],
          "scattercarpet": [
           {
            "marker": {
             "colorbar": {
              "outlinewidth": 0,
              "ticks": ""
             }
            },
            "type": "scattercarpet"
           }
          ],
          "scattergeo": [
           {
            "marker": {
             "colorbar": {
              "outlinewidth": 0,
              "ticks": ""
             }
            },
            "type": "scattergeo"
           }
          ],
          "scattergl": [
           {
            "marker": {
             "colorbar": {
              "outlinewidth": 0,
              "ticks": ""
             }
            },
            "type": "scattergl"
           }
          ],
          "scattermapbox": [
           {
            "marker": {
             "colorbar": {
              "outlinewidth": 0,
              "ticks": ""
             }
            },
            "type": "scattermapbox"
           }
          ],
          "scatterpolar": [
           {
            "marker": {
             "colorbar": {
              "outlinewidth": 0,
              "ticks": ""
             }
            },
            "type": "scatterpolar"
           }
          ],
          "scatterpolargl": [
           {
            "marker": {
             "colorbar": {
              "outlinewidth": 0,
              "ticks": ""
             }
            },
            "type": "scatterpolargl"
           }
          ],
          "scatterternary": [
           {
            "marker": {
             "colorbar": {
              "outlinewidth": 0,
              "ticks": ""
             }
            },
            "type": "scatterternary"
           }
          ],
          "surface": [
           {
            "colorbar": {
             "outlinewidth": 0,
             "ticks": ""
            },
            "colorscale": [
             [
              0,
              "#0d0887"
             ],
             [
              0.1111111111111111,
              "#46039f"
             ],
             [
              0.2222222222222222,
              "#7201a8"
             ],
             [
              0.3333333333333333,
              "#9c179e"
             ],
             [
              0.4444444444444444,
              "#bd3786"
             ],
             [
              0.5555555555555556,
              "#d8576b"
             ],
             [
              0.6666666666666666,
              "#ed7953"
             ],
             [
              0.7777777777777778,
              "#fb9f3a"
             ],
             [
              0.8888888888888888,
              "#fdca26"
             ],
             [
              1,
              "#f0f921"
             ]
            ],
            "type": "surface"
           }
          ],
          "table": [
           {
            "cells": {
             "fill": {
              "color": "#EBF0F8"
             },
             "line": {
              "color": "white"
             }
            },
            "header": {
             "fill": {
              "color": "#C8D4E3"
             },
             "line": {
              "color": "white"
             }
            },
            "type": "table"
           }
          ]
         },
         "layout": {
          "annotationdefaults": {
           "arrowcolor": "#2a3f5f",
           "arrowhead": 0,
           "arrowwidth": 1
          },
          "autotypenumbers": "strict",
          "coloraxis": {
           "colorbar": {
            "outlinewidth": 0,
            "ticks": ""
           }
          },
          "colorscale": {
           "diverging": [
            [
             0,
             "#8e0152"
            ],
            [
             0.1,
             "#c51b7d"
            ],
            [
             0.2,
             "#de77ae"
            ],
            [
             0.3,
             "#f1b6da"
            ],
            [
             0.4,
             "#fde0ef"
            ],
            [
             0.5,
             "#f7f7f7"
            ],
            [
             0.6,
             "#e6f5d0"
            ],
            [
             0.7,
             "#b8e186"
            ],
            [
             0.8,
             "#7fbc41"
            ],
            [
             0.9,
             "#4d9221"
            ],
            [
             1,
             "#276419"
            ]
           ],
           "sequential": [
            [
             0,
             "#0d0887"
            ],
            [
             0.1111111111111111,
             "#46039f"
            ],
            [
             0.2222222222222222,
             "#7201a8"
            ],
            [
             0.3333333333333333,
             "#9c179e"
            ],
            [
             0.4444444444444444,
             "#bd3786"
            ],
            [
             0.5555555555555556,
             "#d8576b"
            ],
            [
             0.6666666666666666,
             "#ed7953"
            ],
            [
             0.7777777777777778,
             "#fb9f3a"
            ],
            [
             0.8888888888888888,
             "#fdca26"
            ],
            [
             1,
             "#f0f921"
            ]
           ],
           "sequentialminus": [
            [
             0,
             "#0d0887"
            ],
            [
             0.1111111111111111,
             "#46039f"
            ],
            [
             0.2222222222222222,
             "#7201a8"
            ],
            [
             0.3333333333333333,
             "#9c179e"
            ],
            [
             0.4444444444444444,
             "#bd3786"
            ],
            [
             0.5555555555555556,
             "#d8576b"
            ],
            [
             0.6666666666666666,
             "#ed7953"
            ],
            [
             0.7777777777777778,
             "#fb9f3a"
            ],
            [
             0.8888888888888888,
             "#fdca26"
            ],
            [
             1,
             "#f0f921"
            ]
           ]
          },
          "colorway": [
           "#636efa",
           "#EF553B",
           "#00cc96",
           "#ab63fa",
           "#FFA15A",
           "#19d3f3",
           "#FF6692",
           "#B6E880",
           "#FF97FF",
           "#FECB52"
          ],
          "font": {
           "color": "#2a3f5f"
          },
          "geo": {
           "bgcolor": "white",
           "lakecolor": "white",
           "landcolor": "#E5ECF6",
           "showlakes": true,
           "showland": true,
           "subunitcolor": "white"
          },
          "hoverlabel": {
           "align": "left"
          },
          "hovermode": "closest",
          "mapbox": {
           "style": "light"
          },
          "paper_bgcolor": "white",
          "plot_bgcolor": "#E5ECF6",
          "polar": {
           "angularaxis": {
            "gridcolor": "white",
            "linecolor": "white",
            "ticks": ""
           },
           "bgcolor": "#E5ECF6",
           "radialaxis": {
            "gridcolor": "white",
            "linecolor": "white",
            "ticks": ""
           }
          },
          "scene": {
           "xaxis": {
            "backgroundcolor": "#E5ECF6",
            "gridcolor": "white",
            "gridwidth": 2,
            "linecolor": "white",
            "showbackground": true,
            "ticks": "",
            "zerolinecolor": "white"
           },
           "yaxis": {
            "backgroundcolor": "#E5ECF6",
            "gridcolor": "white",
            "gridwidth": 2,
            "linecolor": "white",
            "showbackground": true,
            "ticks": "",
            "zerolinecolor": "white"
           },
           "zaxis": {
            "backgroundcolor": "#E5ECF6",
            "gridcolor": "white",
            "gridwidth": 2,
            "linecolor": "white",
            "showbackground": true,
            "ticks": "",
            "zerolinecolor": "white"
           }
          },
          "shapedefaults": {
           "line": {
            "color": "#2a3f5f"
           }
          },
          "ternary": {
           "aaxis": {
            "gridcolor": "white",
            "linecolor": "white",
            "ticks": ""
           },
           "baxis": {
            "gridcolor": "white",
            "linecolor": "white",
            "ticks": ""
           },
           "bgcolor": "#E5ECF6",
           "caxis": {
            "gridcolor": "white",
            "linecolor": "white",
            "ticks": ""
           }
          },
          "title": {
           "x": 0.05
          },
          "xaxis": {
           "automargin": true,
           "gridcolor": "white",
           "linecolor": "white",
           "ticks": "",
           "title": {
            "standoff": 15
           },
           "zerolinecolor": "white",
           "zerolinewidth": 2
          },
          "yaxis": {
           "automargin": true,
           "gridcolor": "white",
           "linecolor": "white",
           "ticks": "",
           "title": {
            "standoff": 15
           },
           "zerolinecolor": "white",
           "zerolinewidth": 2
          }
         }
        }
       }
      },
      "image/png": "[encoded data removed]",
      "text/html": [
       "<div>                            <div id=\"cf76b713-3426-4526-bcf9-5ebed6565105\" class=\"plotly-graph-div\" style=\"height:525px; width:100%;\"></div>            <script type=\"text/javascript\">                require([\"plotly\"], function(Plotly) {                    window.PLOTLYENV=window.PLOTLYENV || {};                                    if (document.getElementById(\"cf76b713-3426-4526-bcf9-5ebed6565105\")) {                    Plotly.newPlot(                        \"cf76b713-3426-4526-bcf9-5ebed6565105\",                        [{\"branchvalues\":\"total\",\"domain\":{\"x\":[0.0,1.0],\"y\":[0.0,1.0]},\"hovertemplate\":\"labels=%{label}\\u003cbr\\u003eLoan Amount=%{value}\\u003cbr\\u003eparent=%{parent}\\u003cbr\\u003eid=%{id}\\u003cextra\\u003e\\u003c\\u002fextra\\u003e\",\"ids\":[\"High\\u002fAuto\",\"Low\\u002fAuto\",\"Medium\\u002fAuto\",\"High\\u002fBusiness\",\"Low\\u002fBusiness\",\"Medium\\u002fBusiness\",\"High\\u002fHome\",\"Low\\u002fHome\",\"Medium\\u002fHome\",\"High\\u002fPersonal\",\"Low\\u002fPersonal\",\"Medium\\u002fPersonal\",\"High\",\"Low\",\"Medium\"],\"labels\":[\"Auto\",\"Auto\",\"Auto\",\"Business\",\"Business\",\"Business\",\"Home\",\"Home\",\"Home\",\"Personal\",\"Personal\",\"Personal\",\"High\",\"Low\",\"Medium\"],\"name\":\"\",\"parents\":[\"High\",\"Low\",\"Medium\",\"High\",\"Low\",\"Medium\",\"High\",\"Low\",\"Medium\",\"High\",\"Low\",\"Medium\",\"\",\"\",\"\"],\"values\":[8343018.0,44714351.0,22443589.0,6618258.0,43413578.0,22981667.0,7590564.0,45120028.0,22193304.0,8373223.0,44538379.0,22031017.0,30925063.0,177786336.0,89649577.0],\"type\":\"treemap\"}],                        {\"template\":{\"data\":{\"histogram2dcontour\":[{\"type\":\"histogram2dcontour\",\"colorbar\":{\"outlinewidth\":0,\"ticks\":\"\"},\"colorscale\":[[0.0,\"#0d0887\"],[0.1111111111111111,\"#46039f\"],[0.2222222222222222,\"#7201a8\"],[0.3333333333333333,\"#9c179e\"],[0.4444444444444444,\"#bd3786\"],[0.5555555555555556,\"#d8576b\"],[0.6666666666666666,\"#ed7953\"],[0.7777777777777778,\"#fb9f3a\"],[0.8888888888888888,\"#fdca26\"],[1.0,\"#f0f921\"]]}],\"choropleth\":[{\"type\":\"choropleth\",\"colorbar\":{\"outlinewidth\":0,\"ticks\":\"\"}}],\"histogram2d\":[{\"type\":\"histogram2d\",\"colorbar\":{\"outlinewidth\":0,\"ticks\":\"\"},\"colorscale\":[[0.0,\"#0d0887\"],[0.1111111111111111,\"#46039f\"],[0.2222222222222222,\"#7201a8\"],[0.3333333333333333,\"#9c179e\"],[0.4444444444444444,\"#bd3786\"],[0.5555555555555556,\"#d8576b\"],[0.6666666666666666,\"#ed7953\"],[0.7777777777777778,\"#fb9f3a\"],[0.8888888888888888,\"#fdca26\"],[1.0,\"#f0f921\"]]}],\"heatmap\":[{\"type\":\"heatmap\",\"colorbar\":{\"outlinewidth\":0,\"ticks\":\"\"},\"colorscale\":[[0.0,\"#0d0887\"],[0.1111111111111111,\"#46039f\"],[0.2222222222222222,\"#7201a8\"],[0.3333333333333333,\"#9c179e\"],[0.4444444444444444,\"#bd3786\"],[0.5555555555555556,\"#d8576b\"],[0.6666666666666666,\"#ed7953\"],[0.7777777777777778,\"#fb9f3a\"],[0.8888888888888888,\"#fdca26\"],[1.0,\"#f0f921\"]]}],\"heatmapgl\":[{\"type\":\"heatmapgl\",\"colorbar\":{\"outlinewidth\":0,\"ticks\":\"\"},\"colorscale\":[[0.0,\"#0d0887\"],[0.1111111111111111,\"#46039f\"],[0.2222222222222222,\"#7201a8\"],[0.3333333333333333,\"#9c179e\"],[0.4444444444444444,\"#bd3786\"],[0.5555555555555556,\"#d8576b\"],[0.6666666666666666,\"#ed7953\"],[0.7777777777777778,\"#fb9f3a\"],[0.8888888888888888,\"#fdca26\"],[1.0,\"#f0f921\"]]}],\"contourcarpet\":[{\"type\":\"contourcarpet\",\"colorbar\":{\"outlinewidth\":0,\"ticks\":\"\"}}],\"contour\":[{\"type\":\"contour\",\"colorbar\":{\"outlinewidth\":0,\"ticks\":\"\"},\"colorscale\":[[0.0,\"#0d0887\"],[0.1111111111111111,\"#46039f\"],[0.2222222222222222,\"#7201a8\"],[0.3333333333333333,\"#9c179e\"],[0.4444444444444444,\"#bd3786\"],[0.5555555555555556,\"#d8576b\"],[0.6666666666666666,\"#ed7953\"],[0.7777777777777778,\"#fb9f3a\"],[0.8888888888888888,\"#fdca26\"],[1.0,\"#f0f921\"]]}],\"surface\":[{\"type\":\"surface\",\"colorbar\":{\"outlinewidth\":0,\"ticks\":\"\"},\"colorscale\":[[0.0,\"#0d0887\"],[0.1111111111111111,\"#46039f\"],[0.2222222222222222,\"#7201a8\"],[0.3333333333333333,\"#9c179e\"],[0.4444444444444444,\"#bd3786\"],[0.5555555555555556,\"#d8576b\"],[0.6666666666666666,\"#ed7953\"],[0.7777777777777778,\"#fb9f3a\"],[0.8888888888888888,\"#fdca26\"],[1.0,\"#f0f921\"]]}],\"mesh3d\":[{\"type\":\"mesh3d\",\"colorbar\":{\"outlinewidth\":0,\"ticks\":\"\"}}],\"scatter\":[{\"fillpattern\":{\"fillmode\":\"overlay\",\"size\":10,\"solidity\":0.2},\"type\":\"scatter\"}],\"parcoords\":[{\"type\":\"parcoords\",\"line\":{\"colorbar\":{\"outlinewidth\":0,\"ticks\":\"\"}}}],\"scatterpolargl\":[{\"type\":\"scatterpolargl\",\"marker\":{\"colorbar\":{\"outlinewidth\":0,\"ticks\":\"\"}}}],\"bar\":[{\"error_x\":{\"color\":\"#2a3f5f\"},\"error_y\":{\"color\":\"#2a3f5f\"},\"marker\":{\"line\":{\"color\":\"#E5ECF6\",\"width\":0.5},\"pattern\":{\"fillmode\":\"overlay\",\"size\":10,\"solidity\":0.2}},\"type\":\"bar\"}],\"scattergeo\":[{\"type\":\"scattergeo\",\"marker\":{\"colorbar\":{\"outlinewidth\":0,\"ticks\":\"\"}}}],\"scatterpolar\":[{\"type\":\"scatterpolar\",\"marker\":{\"colorbar\":{\"outlinewidth\":0,\"ticks\":\"\"}}}],\"histogram\":[{\"marker\":{\"pattern\":{\"fillmode\":\"overlay\",\"size\":10,\"solidity\":0.2}},\"type\":\"histogram\"}],\"scattergl\":[{\"type\":\"scattergl\",\"marker\":{\"colorbar\":{\"outlinewidth\":0,\"ticks\":\"\"}}}],\"scatter3d\":[{\"type\":\"scatter3d\",\"line\":{\"colorbar\":{\"outlinewidth\":0,\"ticks\":\"\"}},\"marker\":{\"colorbar\":{\"outlinewidth\":0,\"ticks\":\"\"}}}],\"scattermapbox\":[{\"type\":\"scattermapbox\",\"marker\":{\"colorbar\":{\"outlinewidth\":0,\"ticks\":\"\"}}}],\"scatterternary\":[{\"type\":\"scatterternary\",\"marker\":{\"colorbar\":{\"outlinewidth\":0,\"ticks\":\"\"}}}],\"scattercarpet\":[{\"type\":\"scattercarpet\",\"marker\":{\"colorbar\":{\"outlinewidth\":0,\"ticks\":\"\"}}}],\"carpet\":[{\"aaxis\":{\"endlinecolor\":\"#2a3f5f\",\"gridcolor\":\"white\",\"linecolor\":\"white\",\"minorgridcolor\":\"white\",\"startlinecolor\":\"#2a3f5f\"},\"baxis\":{\"endlinecolor\":\"#2a3f5f\",\"gridcolor\":\"white\",\"linecolor\":\"white\",\"minorgridcolor\":\"white\",\"startlinecolor\":\"#2a3f5f\"},\"type\":\"carpet\"}],\"table\":[{\"cells\":{\"fill\":{\"color\":\"#EBF0F8\"},\"line\":{\"color\":\"white\"}},\"header\":{\"fill\":{\"color\":\"#C8D4E3\"},\"line\":{\"color\":\"white\"}},\"type\":\"table\"}],\"barpolar\":[{\"marker\":{\"line\":{\"color\":\"#E5ECF6\",\"width\":0.5},\"pattern\":{\"fillmode\":\"overlay\",\"size\":10,\"solidity\":0.2}},\"type\":\"barpolar\"}],\"pie\":[{\"automargin\":true,\"type\":\"pie\"}]},\"layout\":{\"autotypenumbers\":\"strict\",\"colorway\":[\"#636efa\",\"#EF553B\",\"#00cc96\",\"#ab63fa\",\"#FFA15A\",\"#19d3f3\",\"#FF6692\",\"#B6E880\",\"#FF97FF\",\"#FECB52\"],\"font\":{\"color\":\"#2a3f5f\"},\"hovermode\":\"closest\",\"hoverlabel\":{\"align\":\"left\"},\"paper_bgcolor\":\"white\",\"plot_bgcolor\":\"#E5ECF6\",\"polar\":{\"bgcolor\":\"#E5ECF6\",\"angularaxis\":{\"gridcolor\":\"white\",\"linecolor\":\"white\",\"ticks\":\"\"},\"radialaxis\":{\"gridcolor\":\"white\",\"linecolor\":\"white\",\"ticks\":\"\"}},\"ternary\":{\"bgcolor\":\"#E5ECF6\",\"aaxis\":{\"gridcolor\":\"white\",\"linecolor\":\"white\",\"ticks\":\"\"},\"baxis\":{\"gridcolor\":\"white\",\"linecolor\":\"white\",\"ticks\":\"\"},\"caxis\":{\"gridcolor\":\"white\",\"linecolor\":\"white\",\"ticks\":\"\"}},\"coloraxis\":{\"colorbar\":{\"outlinewidth\":0,\"ticks\":\"\"}},\"colorscale\":{\"sequential\":[[0.0,\"#0d0887\"],[0.1111111111111111,\"#46039f\"],[0.2222222222222222,\"#7201a8\"],[0.3333333333333333,\"#9c179e\"],[0.4444444444444444,\"#bd3786\"],[0.5555555555555556,\"#d8576b\"],[0.6666666666666666,\"#ed7953\"],[0.7777777777777778,\"#fb9f3a\"],[0.8888888888888888,\"#fdca26\"],[1.0,\"#f0f921\"]],\"sequentialminus\":[[0.0,\"#0d0887\"],[0.1111111111111111,\"#46039f\"],[0.2222222222222222,\"#7201a8\"],[0.3333333333333333,\"#9c179e\"],[0.4444444444444444,\"#bd3786\"],[0.5555555555555556,\"#d8576b\"],[0.6666666666666666,\"#ed7953\"],[0.7777777777777778,\"#fb9f3a\"],[0.8888888888888888,\"#fdca26\"],[1.0,\"#f0f921\"]],\"diverging\":[[0,\"#8e0152\"],[0.1,\"#c51b7d\"],[0.2,\"#de77ae\"],[0.3,\"#f1b6da\"],[0.4,\"#fde0ef\"],[0.5,\"#f7f7f7\"],[0.6,\"#e6f5d0\"],[0.7,\"#b8e186\"],[0.8,\"#7fbc41\"],[0.9,\"#4d9221\"],[1,\"#276419\"]]},\"xaxis\":{\"gridcolor\":\"white\",\"linecolor\":\"white\",\"ticks\":\"\",\"title\":{\"standoff\":15},\"zerolinecolor\":\"white\",\"automargin\":true,\"zerolinewidth\":2},\"yaxis\":{\"gridcolor\":\"white\",\"linecolor\":\"white\",\"ticks\":\"\",\"title\":{\"standoff\":15},\"zerolinecolor\":\"white\",\"automargin\":true,\"zerolinewidth\":2},\"scene\":{\"xaxis\":{\"backgroundcolor\":\"#E5ECF6\",\"gridcolor\":\"white\",\"linecolor\":\"white\",\"showbackground\":true,\"ticks\":\"\",\"zerolinecolor\":\"white\",\"gridwidth\":2},\"yaxis\":{\"backgroundcolor\":\"#E5ECF6\",\"gridcolor\":\"white\",\"linecolor\":\"white\",\"showbackground\":true,\"ticks\":\"\",\"zerolinecolor\":\"white\",\"gridwidth\":2},\"zaxis\":{\"backgroundcolor\":\"#E5ECF6\",\"gridcolor\":\"white\",\"linecolor\":\"white\",\"showbackground\":true,\"ticks\":\"\",\"zerolinecolor\":\"white\",\"gridwidth\":2}},\"shapedefaults\":{\"line\":{\"color\":\"#2a3f5f\"}},\"annotationdefaults\":{\"arrowcolor\":\"#2a3f5f\",\"arrowhead\":0,\"arrowwidth\":1},\"geo\":{\"bgcolor\":\"white\",\"landcolor\":\"#E5ECF6\",\"subunitcolor\":\"white\",\"showland\":true,\"showlakes\":true,\"lakecolor\":\"white\"},\"title\":{\"x\":0.05},\"mapbox\":{\"style\":\"light\"}}},\"legend\":{\"tracegroupgap\":0},\"margin\":{\"t\":60}},                        {\"responsive\": true}                    ).then(function(){\n",
       "                            \n",
       "var gd = document.getElementById('cf76b713-3426-4526-bcf9-5ebed6565105');\n",
       "var x = new MutationObserver(function (mutations, observer) {{\n",
       "        var display = window.getComputedStyle(gd).display;\n",
       "        if (!display || display === 'none') {{\n",
       "            console.log([gd, 'removed!']);\n",
       "            Plotly.purge(gd);\n",
       "            observer.disconnect();\n",
       "        }}\n",
       "}});\n",
       "\n",
       "// Listen for the removal of the full notebook cells\n",
       "var notebookContainer = gd.closest('#notebook-container');\n",
       "if (notebookContainer) {{\n",
       "    x.observe(notebookContainer, {childList: true});\n",
       "}}\n",
       "\n",
       "// Listen for the clearing of the current output cell\n",
       "var outputEl = gd.closest('.output');\n",
       "if (outputEl) {{\n",
       "    x.observe(outputEl, {childList: true});\n",
       "}}\n",
       "\n",
       "                        })                };                });            </script>        </div>"
      ]
     },
     "metadata": {},
     "output_type": "display_data"
    }
   ],
   "source": [
    "import plotly.express as px\n",
    "fig = px.treemap(df, path=['Risk Rating', 'Loan Purpose'], values='Loan Amount')\n",
    "fig.show()\n"
   ]
  },
  {
   "cell_type": "markdown",
   "id": "9560331f-7ce2-412d-9d76-7d451135a439",
   "metadata": {},
   "source": [
    "* Low-risk applicants mostly take personal, home, and auto loans, and these usually involve smaller loan amounts.\n",
    "* Business loans are more common among medium and high-risk applicants, and they typically involve larger sums of money.\n",
    "* Loan purpose and loan size both affect risk levels.\n",
    "\n",
    "\n",
    "\n",
    "\n"
   ]
  },
  {
   "cell_type": "markdown",
   "id": "016225ed-2d0c-412d-821c-d7e108283c81",
   "metadata": {},
   "source": [
    "## which loan purposes are more common among high-risk individuals\n"
   ]
  },
  {
   "cell_type": "code",
   "execution_count": 18,
   "id": "7e6abd92-3c17-47a4-839d-a4a24b8f4e38",
   "metadata": {
    "scrolled": true
   },
   "outputs": [
    {
     "data": {
      "image/png": "[encoded data removed]",
      "text/plain": [
       "<Figure size 640x480 with 1 Axes>"
      ]
     },
     "metadata": {},
     "output_type": "display_data"
    }
   ],
   "source": [
    "df[df['Risk Rating'] == 'High']['Loan Purpose'].value_counts().plot(kind='pie', autopct='%1.1f%%', startangle=140)\n",
    "plt.title('Loan Purpose Distribution among High-Risk Applicants')\n",
    "plt.ylabel('')\n",
    "plt.show()"
   ]
  },
  {
   "cell_type": "markdown",
   "id": "6e96df4f-85b3-4b68-b957-08f82a984a0e",
   "metadata": {},
   "source": [
    "* Most high-risk applicants take loans for Auto (26.6%) and Personal (26.2%) use.\n",
    "\n",
    "* Business loans also account for a large portion (22.3%), suggesting many high-risk applicants are trying to fund or support businesses.\n",
    "\n",
    "* Home loans (21.9%) are slightly less common among high-risk individuals.\n"
   ]
  },
  {
   "cell_type": "markdown",
   "id": "ba6564b2-086e-46e1-968b-dd4a62e2362e",
   "metadata": {},
   "source": [
    "## Distribution of Risk Ratings by Employment Status\n"
   ]
  },
  {
   "cell_type": "code",
   "execution_count": 11,
   "id": "353aeb26-85cf-4fd1-85ac-db04cd120f75",
   "metadata": {},
   "outputs": [
    {
     "data": {
      "image/png": "[encoded data removed]",
      "text/plain": [
       "<Figure size 640x480 with 1 Axes>"
      ]
     },
     "metadata": {},
     "output_type": "display_data"
    }
   ],
   "source": [
    "\n",
    "pd.crosstab(df['Employment Status'], df['Risk Rating']).plot(kind='bar', stacked=True, colormap='Set2')\n",
    "plt.title('Risk Rating by Employment Status')\n",
    "plt.xlabel('Employment Status')\n",
    "plt.ylabel('Number of Applicants')\n",
    "plt.legend(title='Risk Rating')\n",
    "plt.tight_layout()\n",
    "plt.show()\n"
   ]
  },
  {
   "cell_type": "markdown",
   "id": "9a37c91c-dd27-448e-a54d-b37d174ddc2a",
   "metadata": {},
   "source": [
    "* Employed individuals have the lowest financial risk, with most falling under the Low and Medium risk categories.\n",
    "\n",
    "\n",
    "*  Self-employed individuals show mixed risk levels, indicating moderate financial stability.\n",
    "\n",
    "\n",
    "* Unemployed individuals are more likely to be high risk, suggesting job status strongly impacts financial risk\n"
   ]
  },
  {
   "cell_type": "markdown",
   "id": "452e80cf-71ed-4daf-97c0-1a896fbd775c",
   "metadata": {},
   "source": [
    "## Average Income by Risk Rating Across Education Levels"
   ]
  },
  {
   "cell_type": "code",
   "execution_count": 12,
   "id": "62bd1472-f5d4-49e5-89e8-d8f5850e4bee",
   "metadata": {},
   "outputs": [
    {
     "data": {
      "image/png": "[encoded data removed]",
      "text/plain": [
       "<Figure size 640x480 with 2 Axes>"
      ]
     },
     "metadata": {},
     "output_type": "display_data"
    }
   ],
   "source": [
    "pivot = df.pivot_table(values='Income', index='Education Level', columns='Risk Rating', aggfunc='mean')\n",
    "sns.heatmap(pivot, annot=True, cmap='Blues')\n",
    "plt.title('Average Income by Education Level and Risk Rating')\n",
    "plt.show()"
   ]
  },
  {
   "cell_type": "markdown",
   "id": "883525da-025b-4ef4-a2e8-e50b1204225e",
   "metadata": {},
   "source": [
    "'''1.Higher Education = Higher Income\n",
    "Applicants with PhDs and Master’s degrees have the highest average income, compared to those with only High School or Bachelor’s education.\n",
    "\n",
    "\n",
    "2. Low Risk = Higher Earnings\n",
    "Across all education levels, individuals with a Low Risk Rating consistently earn more than those with Medium or High Risk.\n",
    "\n",
    "\n",
    "3. High Risk = Lower Income\n",
    "Applicants in the High Risk group, especially those with lower education, tend to have the lowest average income, showing a link between low income and high financial risk.'''\n",
    "\n",
    "* Across all risk levels, PhD and Master’s holders tend to earn more on average.\n",
    "\n",
    "* Low-risk individuals generally have higher incomes.\n",
    "\n",
    "* The highest average income is seen in low-risk PhD holders.\n",
    "\n",
    "* High-risk applicants earn slightly less, especially those with Bachelor’s or Master’s degrees."
   ]
  },
  {
   "cell_type": "markdown",
   "id": "5a3c3de7-ae7f-4d56-b88a-e298bb6b12f9",
   "metadata": {},
   "source": [
    "## Risk Rating Distribution\n",
    "(Shows how many applicants fall under each risk category)"
   ]
  },
  {
   "cell_type": "code",
   "execution_count": 48,
   "id": "13c15a44-21a1-4acc-a49d-adaaf48592bf",
   "metadata": {},
   "outputs": [
    {
     "data": {
      "image/png": "[encoded data removed]",
      "text/plain": [
       "<Figure size 500x300 with 1 Axes>"
      ]
     },
     "metadata": {},
     "output_type": "display_data"
    }
   ],
   "source": [
    "plt.figure(figsize=(5, 3))\n",
    "sns.countplot(x='Risk Rating', data=df, palette='Set1')\n",
    "plt.title('Risk Rating Distribution')\n",
    "plt.xlabel('Risk Rating')\n",
    "plt.ylabel('Count')\n",
    "plt.tight_layout()\n",
    "plt.show()\n"
   ]
  },
  {
   "cell_type": "markdown",
   "id": "8fd2a131-226a-4da0-9499-b44152e233bf",
   "metadata": {},
   "source": [
    "* Most applicants fall under the low-risk category.\n",
    "\n",
    "* Fewer people are in the medium and high-risk groups.\n",
    "\n",
    "* This shows a positive trend, with more financially stable applicants."
   ]
  },
  {
   "cell_type": "markdown",
   "id": "6d67d71e-1f38-4875-9593-9fa91abeb5d7",
   "metadata": {},
   "source": [
    "## Credit Score Comparison Across Risk Levels"
   ]
  },
  {
   "cell_type": "code",
   "execution_count": 42,
   "id": "4efadc43-9879-4c5c-9926-4920180e2617",
   "metadata": {},
   "outputs": [
    {
     "data": {
      "image/png": "[encoded data removed]",
      "text/plain": [
       "<Figure size 640x480 with 1 Axes>"
      ]
     },
     "metadata": {},
     "output_type": "display_data"
    }
   ],
   "source": [
    "sns.boxplot(x='Risk Rating', y='Credit Score', data=df, palette='Set3')\n",
    "plt.title('Credit Score Distribution by Risk Rating')\n",
    "plt.xlabel('Risk Rating')\n",
    "plt.ylabel('Credit Score')\n",
    "plt.show()"
   ]
  },
  {
   "cell_type": "markdown",
   "id": "e045d8c4-4caf-42a4-9fc8-64cbb0a8f674",
   "metadata": {},
   "source": [
    "* High-risk applicants typically have credit scores between 600–675.\n",
    "\n",
    "* Medium-risk applicants fall in the range of 650–725.\n",
    "\n",
    "* Low-risk applicants generally have scores above 700.\n",
    "\n"
   ]
  },
  {
   "cell_type": "markdown",
   "id": "cbec88dc-92a7-44e4-97db-7c299bde7eca",
   "metadata": {},
   "source": [
    "## Findings:\n"
   ]
  },
  {
   "cell_type": "markdown",
   "id": "bc0e01fb-262e-4248-8581-89acbf293953",
   "metadata": {},
   "source": [
    "\n",
    "* Most applicants are Low Risk, but Medium and High Risk groups still represent a significant portion.\n",
    "\n",
    "* Higher credit scores strongly correlate with Low Risk, while lower scores are common in Medium and High Risk.\n",
    "\n",
    "* Employment status impacts risk — unemployed and self-employed applicants tend to be higher risk.\n",
    "\n",
    "* Loan purpose matters — Auto and Personal loans are more common among High-Risk applicants.\n",
    "\n",
    "* Income does not always reflect lower risk, especially for Medium-Risk groups with high income.\n",
    "\n",
    "* Job stability (more years at current job) generally indicates lower financial risk.\n",
    "\n",
    "\n",
    "\n",
    "\n",
    "\n"
   ]
  },
  {
   "cell_type": "markdown",
   "id": "a1fcf631-1b60-4edc-87cf-3dceb6bc0163",
   "metadata": {},
   "source": [
    "## Suggestions:"
   ]
  },
  {
   "cell_type": "markdown",
   "id": "5eccbf3e-17ba-4884-acbe-e42169495f5b",
   "metadata": {},
   "source": [
    " \n",
    "* Use credit score and job stability as primary indicators for assessing applicant risk.\n",
    "* Be cautious with Auto and Personal loan applications, especially if the applicant is unemployed or self-employed.\n",
    "* Combine multiple factors (employment, credit score, income, loan purpose) rather than relying on income alone.\n",
    "* Target low-risk applicants for faster approvals and better loan terms.\n",
    "* Use education and income patterns to spot inconsistencies or unexpected risk levels.\n",
    "* Consider flagging high-risk profiles for additional documentation or guarantees."
   ]
  },
  {
   "cell_type": "code",
   "execution_count": null,
   "id": "65baf3a9-90e3-451c-8c93-63ddff595369",
   "metadata": {},
   "outputs": [],
   "source": []
  }
 ],
 "metadata": {
  "kernelspec": {
   "display_name": "Python 3 (ipykernel)",
   "language": "python",
   "name": "python3"
  },
  "language_info": {
   "codemirror_mode": {
    "name": "ipython",
    "version": 3
   },
   "file_extension": ".py",
   "mimetype": "text/x-python",
   "name": "python",
   "nbconvert_exporter": "python",
   "pygments_lexer": "ipython3",
   "version": "3.12.7"
  }
 },
 "nbformat": 4,
 "nbformat_minor": 5
}
